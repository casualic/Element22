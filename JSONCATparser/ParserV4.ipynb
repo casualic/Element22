{
 "cells": [
  {
   "cell_type": "markdown",
   "metadata": {},
   "source": [
    "In this project we will transform the the .json databse to the desired  csv form using Python. \n",
    "\n",
    "In order to do this we will write the required parser in Python.\n",
    "\n",
    "Our desired headers are:\n",
    "Event name | Data Element Name | Position | Required| Data Type | JSON DATAYPE | Chosices | array elements\n"
   ]
  },
  {
   "cell_type": "code",
   "execution_count": 1,
   "metadata": {},
   "outputs": [],
   "source": [
    "import pandas as pd\n",
    "import json\n",
    "import os\n",
    "import csv\n",
    "import pprint"
   ]
  },
  {
   "cell_type": "markdown",
   "metadata": {},
   "source": [
    "First - interpreting the .json file in python"
   ]
  },
  {
   "cell_type": "code",
   "execution_count": 2,
   "metadata": {},
   "outputs": [],
   "source": [
    "with open(\"database.json\", \"r\") as read_file:\n",
    "    data = json.load(read_file)"
   ]
  },
  {
   "cell_type": "markdown",
   "metadata": {},
   "source": [
    "We will now inspect the primary keys."
   ]
  },
  {
   "cell_type": "code",
   "execution_count": 3,
   "metadata": {},
   "outputs": [
    {
     "name": "stdout",
     "output_type": "stream",
     "text": [
      "dict_keys(['description', 'version', 'dataTypes', 'eventDefinitions', 'choices', 'nameValuePairDefinitions'])\n"
     ]
    }
   ],
   "source": [
    "print(data.keys()) #prints keys"
   ]
  },
  {
   "cell_type": "markdown",
   "metadata": {},
   "source": [
    "We will inspect the number of CAT events and the data for them."
   ]
  },
  {
   "cell_type": "code",
   "execution_count": 4,
   "metadata": {},
   "outputs": [
    {
     "name": "stdout",
     "output_type": "stream",
     "text": [
      "Number of CAT events is 32\n"
     ]
    },
    {
     "data": {
      "text/plain": [
       "{'eventName': 'MECOM',\n",
       " 'fields': [{'name': 'actionType',\n",
       "   'dataType': 'Choice',\n",
       "   'JSONDataType': 'STRING',\n",
       "   'required': 'Required',\n",
       "   'position': '1'},\n",
       "  {'name': 'errorROEID',\n",
       "   'dataType': 'Unsigned',\n",
       "   'JSONDataType': 'NUMBER',\n",
       "   'required': 'Conditional',\n",
       "   'position': '2'},\n",
       "  {'name': 'firmROEID',\n",
       "   'dataType': 'Text (64)',\n",
       "   'JSONDataType': 'STRING',\n",
       "   'required': 'Required',\n",
       "   'position': '3'},\n",
       "  {'name': 'type',\n",
       "   'dataType': 'Message Type',\n",
       "   'JSONDataType': 'STRING',\n",
       "   'required': 'Required',\n",
       "   'position': '4'},\n",
       "  {'name': 'CATReporterIMID',\n",
       "   'dataType': 'CAT Reporter IMID',\n",
       "   'JSONDataType': 'STRING',\n",
       "   'required': 'Optional',\n",
       "   'position': '5'},\n",
       "  {'name': 'orderKeyDate',\n",
       "   'dataType': 'Timestamp',\n",
       "   'JSONDataType': ['STRING', 'NUMBER'],\n",
       "   'required': 'Required',\n",
       "   'position': '6'},\n",
       "  {'name': 'orderID',\n",
       "   'dataType': 'Text (64)',\n",
       "   'JSONDataType': 'STRING',\n",
       "   'required': 'Required',\n",
       "   'position': '7'},\n",
       "  {'name': 'symbol',\n",
       "   'dataType': 'Symbol',\n",
       "   'JSONDataType': 'STRING',\n",
       "   'required': 'Required',\n",
       "   'position': '8'},\n",
       "  {'name': 'priorOrderKeyDate',\n",
       "   'dataType': 'Timestamp',\n",
       "   'JSONDataType': ['STRING', 'NUMBER'],\n",
       "   'required': 'Conditional',\n",
       "   'position': '9'},\n",
       "  {'name': 'priorOrderID',\n",
       "   'dataType': 'Text (64)',\n",
       "   'JSONDataType': 'STRING',\n",
       "   'required': 'Conditional',\n",
       "   'position': '10'},\n",
       "  {'name': 'originatingIMID',\n",
       "   'dataType': 'CAT Reporter IMID',\n",
       "   'JSONDataType': 'STRING',\n",
       "   'required': 'Conditional',\n",
       "   'position': '11'},\n",
       "  {'name': 'eventTimestamp',\n",
       "   'dataType': 'Timestamp',\n",
       "   'JSONDataType': ['STRING', 'NUMBER'],\n",
       "   'required': 'Required',\n",
       "   'position': '12'},\n",
       "  {'name': 'side',\n",
       "   'dataType': 'Choice',\n",
       "   'JSONDataType': 'STRING',\n",
       "   'required': 'Required',\n",
       "   'position': '13'},\n",
       "  {'name': 'price',\n",
       "   'dataType': 'Price',\n",
       "   'JSONDataType': 'NUMBER',\n",
       "   'required': 'Conditional',\n",
       "   'position': '14'},\n",
       "  {'name': 'quantity',\n",
       "   'dataType': 'Real Quantity',\n",
       "   'JSONDataType': 'NUMBER',\n",
       "   'required': 'Required',\n",
       "   'position': '15'},\n",
       "  {'name': 'minQty',\n",
       "   'dataType': 'Whole Quantity',\n",
       "   'JSONDataType': 'NUMBER',\n",
       "   'required': 'Conditional',\n",
       "   'position': '16'},\n",
       "  {'name': 'leavesQty',\n",
       "   'dataType': 'Real Quantity',\n",
       "   'JSONDataType': 'NUMBER',\n",
       "   'required': 'Required',\n",
       "   'position': '17'},\n",
       "  {'name': 'orderType',\n",
       "   'dataType': 'Choice',\n",
       "   'JSONDataType': 'STRING',\n",
       "   'required': 'Required',\n",
       "   'position': '18'},\n",
       "  {'name': 'timeInForce',\n",
       "   'dataType': 'Name/Value Pairs',\n",
       "   'JSONDataType': 'OBJECT',\n",
       "   'required': 'Required',\n",
       "   'position': '19'},\n",
       "  {'name': 'tradingSession',\n",
       "   'dataType': 'Choice',\n",
       "   'JSONDataType': 'STRING',\n",
       "   'required': 'Required',\n",
       "   'position': '20'},\n",
       "  {'name': 'handlingInstructions',\n",
       "   'dataType': 'Name/Value Pairs',\n",
       "   'JSONDataType': 'OBJECT',\n",
       "   'required': 'Conditional',\n",
       "   'position': '21'},\n",
       "  {'name': 'seqNum',\n",
       "   'dataType': 'Alphanumeric (40)',\n",
       "   'JSONDataType': 'STRING',\n",
       "   'required': 'Conditional',\n",
       "   'position': '22'},\n",
       "  {'name': 'atsDisplayInd',\n",
       "   'dataType': 'Choice',\n",
       "   'JSONDataType': 'STRING',\n",
       "   'required': 'Conditional',\n",
       "   'position': '23'},\n",
       "  {'name': 'displayPrice',\n",
       "   'dataType': 'Price',\n",
       "   'JSONDataType': 'NUMBER',\n",
       "   'required': 'Conditional',\n",
       "   'position': '24'},\n",
       "  {'name': 'workingPrice',\n",
       "   'dataType': 'Price',\n",
       "   'JSONDataType': 'NUMBER',\n",
       "   'required': 'Conditional',\n",
       "   'position': '25'},\n",
       "  {'name': 'displayQty',\n",
       "   'dataType': 'Whole Quantity',\n",
       "   'JSONDataType': 'NUMBER',\n",
       "   'required': 'Conditional',\n",
       "   'position': '26'},\n",
       "  {'name': 'nbbPrice',\n",
       "   'dataType': 'Price',\n",
       "   'JSONDataType': 'NUMBER',\n",
       "   'required': 'Conditional',\n",
       "   'position': '27'},\n",
       "  {'name': 'nbbQty',\n",
       "   'dataType': 'Whole Quantity',\n",
       "   'JSONDataType': 'NUMBER',\n",
       "   'required': 'Conditional',\n",
       "   'position': '28'},\n",
       "  {'name': 'nboPrice',\n",
       "   'dataType': 'Price',\n",
       "   'JSONDataType': 'NUMBER',\n",
       "   'required': 'Conditional',\n",
       "   'position': '29'},\n",
       "  {'name': 'nboQty',\n",
       "   'dataType': 'Whole Quantity',\n",
       "   'JSONDataType': 'NUMBER',\n",
       "   'required': 'Conditional',\n",
       "   'position': '30'},\n",
       "  {'name': 'nbboSource',\n",
       "   'dataType': 'Choice',\n",
       "   'JSONDataType': 'STRING',\n",
       "   'required': 'Conditional',\n",
       "   'position': '31'},\n",
       "  {'name': 'nbboTimestamp',\n",
       "   'dataType': 'Timestamp',\n",
       "   'JSONDataType': ['STRING', 'NUMBER'],\n",
       "   'required': 'Conditional',\n",
       "   'position': '32'}]}"
      ]
     },
     "execution_count": 4,
     "metadata": {},
     "output_type": "execute_result"
    }
   ],
   "source": [
    "print('Number of CAT events is ' + str(len(data['eventDefinitions'])))\n",
    "\n",
    "type(data['eventDefinitions'])\n",
    "\n",
    "data['eventDefinitions'][2] # data inspection\n",
    "\n",
    "\n",
    "\n"
   ]
  },
  {
   "cell_type": "markdown",
   "metadata": {},
   "source": [
    "For each CAT event, we have a number of inputs under the CAT field. \n",
    "We have 32 different cat events , and so we want to loop through all of them \n",
    "\n",
    "For each CAT event , we want to loop over every input in fields. Every input in fields is a dictionary with keys.\n",
    "\n"
   ]
  },
  {
   "cell_type": "code",
   "execution_count": 19,
   "metadata": {
    "scrolled": true
   },
   "outputs": [
    {
     "name": "stdout",
     "output_type": "stream",
     "text": [
      "Inspecting data:\n",
      "\n",
      "[['MECO', 'actionType', '1', 'Required', 'Choice', 'STRING'], ['MECO', 'errorROEID', '2', 'Conditional', 'Unsigned', 'NUMBER']]\n"
     ]
    }
   ],
   "source": [
    "#takes cat name\n",
    "sixlist = []\n",
    "CATROW = []\n",
    "n = 0\n",
    "\n",
    "for row in data['eventDefinitions']: # iterates over CATs\n",
    "    #print(row['eventName'])\n",
    "    l1 = row['eventName']\n",
    "    n += 1\n",
    "    for var in data['eventDefinitions'][n-1]['fields']: #for each gat, iterates over fields\n",
    "        #print(var['name'])\n",
    "        l2 = var['name']\n",
    "        l3 = var['position']\n",
    "        l4 = var['required']\n",
    "        l5 = var['dataType']\n",
    "        l6 = var['JSONDataType']\n",
    "        catrow = [l1, l2, l3, l4, l5, l6]\n",
    "        sixlist.append(catrow)\n",
    "        \n",
    "        \n",
    "print('Inspecting data:' + '\\n') \n",
    "print(sixlist[:2])    \n",
    "        \n",
    "\n"
   ]
  },
  {
   "cell_type": "markdown",
   "metadata": {},
   "source": [
    "Now we're just missing columns 7 and 8, since they restrict the data. "
   ]
  },
  {
   "cell_type": "markdown",
   "metadata": {},
   "source": [
    "We will now add these missing items to the passer. First starting with item item 7 = The Choices."
   ]
  },
  {
   "cell_type": "code",
   "execution_count": 6,
   "metadata": {},
   "outputs": [
    {
     "name": "stdout",
     "output_type": "stream",
     "text": [
      "[['MECO', 'actionType', '1', 'Required', 'Choice', 'STRING', ['NEW', 'COR', 'RPR', 'DEL']], ['MECO', 'errorROEID', '2', 'Conditional', 'Unsigned', 'NUMBER', None], ['MECO', 'firmROEID', '3', 'Required', 'Text (64)', 'STRING', None], ['MECO', 'type', '4', 'Required', 'Message Type', 'STRING', None], ['MECO', 'CATReporterIMID', '5', 'Optional', 'CAT Reporter IMID', 'STRING', None]]\n"
     ]
    },
    {
     "data": {
      "text/plain": [
       "str"
      ]
     },
     "execution_count": 6,
     "metadata": {},
     "output_type": "execute_result"
    }
   ],
   "source": [
    "#takes cat name\n",
    "sevenlist = []\n",
    "CATROW = []\n",
    "n = 0\n",
    "\n",
    "for row in data['eventDefinitions']: # iterates over CATs\n",
    "    #print(row['eventName'])\n",
    "    l1 = row['eventName']\n",
    "    n += 1\n",
    "    for var in data['eventDefinitions'][n-1]['fields']: #for each gat, iterates over fields\n",
    "        #print(var['name'])\n",
    "        l2 = var['name']\n",
    "        l3 = var['position']\n",
    "        l4 = var['required']\n",
    "        l5 = var['dataType']\n",
    "        l6 = var['JSONDataType']\n",
    "        if l5 == 'Choice':\n",
    "            l7 = data['choices'][l2]\n",
    "        else:\n",
    "            l7 = None\n",
    "\n",
    "        catrow = [l1, l2, l3, l4, l5, l6, l7]\n",
    "        sevenlist.append(catrow)\n",
    "        \n",
    "        \n",
    "print('Inspecting data:' + '\\n')        \n",
    "print(sevenlist[:5])\n",
    "\n",
    "type(sevenlist[0][4])"
   ]
  },
  {
   "cell_type": "markdown",
   "metadata": {},
   "source": [
    "We now add the final element = Array elements. However - the was not clear on what type of information we were to display here. The Array elemnts was a string of dicitionaries- therefore a lot of information to contain in a cell. \n",
    "\n",
    "For the purpose of creating a readable csv = we will denote whether the 'array elements' exist for the row. The details can be easily retrieved, given that this will be specific for each individual row in the sheet. "
   ]
  },
  {
   "cell_type": "code",
   "execution_count": 18,
   "metadata": {},
   "outputs": [
    {
     "name": "stdout",
     "output_type": "stream",
     "text": [
      "Inspecting data:\n",
      "\n",
      "[['MECO', 'actionType', '1', 'Required', 'Choice', 'STRING', ['NEW', 'COR', 'RPR', 'DEL'], None], ['MECO', 'errorROEID', '2', 'Conditional', 'Unsigned', 'NUMBER', None, None], ['MECO', 'firmROEID', '3', 'Required', 'Text (64)', 'STRING', None, None], ['MECO', 'type', '4', 'Required', 'Message Type', 'STRING', None, None], ['MECO', 'CATReporterIMID', '5', 'Optional', 'CAT Reporter IMID', 'STRING', None, None]]\n"
     ]
    },
    {
     "data": {
      "text/plain": [
       "str"
      ]
     },
     "execution_count": 18,
     "metadata": {},
     "output_type": "execute_result"
    }
   ],
   "source": [
    "#takes cat name\n",
    "eightlist = []\n",
    "CATROW = []\n",
    "n = 0\n",
    "\n",
    "for row in data['eventDefinitions']: # iterates over CATs\n",
    "    #print(row['eventName'])\n",
    "    l1 = row['eventName']\n",
    "    n += 1\n",
    "    for var in data['eventDefinitions'][n-1]['fields']: #for each gat, iterates over fields\n",
    "        #print(var['name'])\n",
    "        l2 = var['name']\n",
    "        l3 = var['position']\n",
    "        l4 = var['required']\n",
    "        l5 = var['dataType']\n",
    "        l6 = var['JSONDataType']\n",
    "        if l5 == 'Choice':\n",
    "            l7 = data['choices'][l2]\n",
    "        else:\n",
    "            l7 = None\n",
    "        if \"arrayElements\" in var:\n",
    "            l8 = 'Array Elements exist'\n",
    "        else:\n",
    "            l8 = None\n",
    "\n",
    "        catrow = [l1, l2, l3, l4, l5, l6, l7, l8]\n",
    "        eightlist.append(catrow)\n",
    "print('Inspecting data:' + '\\n')        \n",
    "print(eightlist[:5])\n",
    "\n",
    "type(eightlist[0][4])"
   ]
  },
  {
   "cell_type": "markdown",
   "metadata": {},
   "source": [
    "Now we have a list of lists for each input required. We will add the headers to the list now, to prepare for .csv conversion."
   ]
  },
  {
   "cell_type": "code",
   "execution_count": 8,
   "metadata": {},
   "outputs": [
    {
     "name": "stdout",
     "output_type": "stream",
     "text": [
      "[['Event Name', 'Data Element Name', 'Position', 'Required', 'Data Type', 'JSON Data Type', 'Choices', 'Array Elements'], ['MECO', 'actionType', '1', 'Required', 'Choice', 'STRING', ['NEW', 'COR', 'RPR', 'DEL'], None], ['MECO', 'errorROEID', '2', 'Conditional', 'Unsigned', 'NUMBER', None, None], ['MECO', 'firmROEID', '3', 'Required', 'Text (64)', 'STRING', None, None], ['MECO', 'type', '4', 'Required', 'Message Type', 'STRING', None, None], ['MECO', 'CATReporterIMID', '5', 'Optional', 'CAT Reporter IMID', 'STRING', None, None], ['MECO', 'orderKeyDate', '6', 'Required', 'Timestamp', ['STRING', 'NUMBER'], None, None], ['MECO', 'orderID', '7', 'Required', 'Text (64)', 'STRING', None, None], ['MECO', 'symbol', '8', 'Required', 'Symbol', 'STRING', None, None], ['MECO', 'parentOrderKeyDate', '9', 'Required', 'Timestamp', ['STRING', 'NUMBER'], None, None], ['MECO', 'parentOrderID', '10', 'Required', 'Text (64)', 'STRING', None, None], ['MECO', 'originatingIMID', '11', 'Conditional', 'CAT Reporter IMID', 'STRING', None, None], ['MECO', 'eventTimestamp', '12', 'Required', 'Timestamp', ['STRING', 'NUMBER'], None, None], ['MECO', 'side', '13', 'Required', 'Choice', 'STRING', ['B', 'SL', 'SS', 'SX'], None], ['MECO', 'price', '14', 'Conditional', 'Price', 'NUMBER', None, None], ['MECO', 'quantity', '15', 'Required', 'Real Quantity', 'NUMBER', None, None], ['MECO', 'minQty', '16', 'Conditional', 'Whole Quantity', 'NUMBER', None, None], ['MECO', 'orderType', '17', 'Required', 'Choice', 'STRING', ['CAB', 'LMT', 'MKT'], None], ['MECO', 'timeInForce', '18', 'Required', 'Name/Value Pairs', 'OBJECT', None, None], ['MECO', 'tradingSession', '19', 'Required', 'Choice', 'STRING', ['FOR', 'PRE', 'PREREG', 'REG', 'REGPOST', 'POST', 'PREPOST', 'ALL'], None], ['MECO', 'handlingInstructions', '20', 'Conditional', 'Name/Value Pairs', 'OBJECT', None, None], ['MECO', 'seqNum', '21', 'Conditional', 'Alphanumeric (40)', 'STRING', None, None], ['MECO', 'atsDisplayInd', '22', 'Conditional', 'Choice', 'STRING', ['S', 'A', 'Y', 'N'], None], ['MECO', 'displayPrice', '23', 'Conditional', 'Price', 'NUMBER', None, None], ['MECO', 'workingPrice', '24', 'Conditional', 'Price', 'NUMBER', None, None], ['MECO', 'displayQty', '25', 'Conditional', 'Whole Quantity', 'NUMBER', None, None], ['MECO', 'nbbPrice', '26', 'Conditional', 'Price', 'NUMBER', None, None], ['MECO', 'nbbQty', '27', 'Conditional', 'Whole Quantity', 'NUMBER', None, None], ['MECO', 'nboPrice', '28', 'Conditional', 'Price', 'NUMBER', None, None], ['MECO', 'nboQty', '29', 'Conditional', 'Whole Quantity', 'NUMBER', None, None], ['MECO', 'nbboSource', '30', 'Conditional', 'Choice', 'STRING', ['D', 'S', 'H', 'NA'], None], ['MECO', 'nbboTimestamp', '31', 'Conditional', 'Timestamp', ['STRING', 'NUMBER'], None, None], ['MECOC', 'actionType', '1', 'Required', 'Choice', 'STRING', ['NEW', 'COR', 'RPR', 'DEL'], None], ['MECOC', 'errorROEID', '2', 'Conditional', 'Unsigned', 'NUMBER', None, None], ['MECOC', 'firmROEID', '3', 'Required', 'Text (64)', 'STRING', None, None], ['MECOC', 'type', '4', 'Required', 'Message Type', 'STRING', None, None], ['MECOC', 'CATReporterIMID', '5', 'Optional', 'CAT Reporter IMID', 'STRING', None, None], ['MECOC', 'orderKeyDate', '6', 'Required', 'Timestamp', ['STRING', 'NUMBER'], None, None], ['MECOC', 'orderID', '7', 'Required', 'Text (64)', 'STRING', None, None], ['MECOC', 'symbol', '8', 'Required', 'Symbol', 'STRING', None, None], ['MECOC', 'originatingIMID', '9', 'Conditional', 'CAT Reporter IMID', 'STRING', None, None], ['MECOC', 'eventTimestamp', '10', 'Required', 'Timestamp', ['STRING', 'NUMBER'], None, None], ['MECOC', 'side', '11', 'Required', 'Choice', 'STRING', ['B', 'SL', 'SS', 'SX'], None], ['MECOC', 'cancelQty', '12', 'Required', 'Real Quantity', 'NUMBER', None, None], ['MECOC', 'leavesQty', '13', 'Required', 'Real Quantity', 'NUMBER', None, None], ['MECOC', 'reservedForFutureUse', '14', 'Optional', 'Text (0)', 'STRING', None, None], ['MECOC', 'seqNum', '15', 'Conditional', 'Alphanumeric (40)', 'STRING', None, None], ['MECOM', 'actionType', '1', 'Required', 'Choice', 'STRING', ['NEW', 'COR', 'RPR', 'DEL'], None], ['MECOM', 'errorROEID', '2', 'Conditional', 'Unsigned', 'NUMBER', None, None], ['MECOM', 'firmROEID', '3', 'Required', 'Text (64)', 'STRING', None, None], ['MECOM', 'type', '4', 'Required', 'Message Type', 'STRING', None, None], ['MECOM', 'CATReporterIMID', '5', 'Optional', 'CAT Reporter IMID', 'STRING', None, None], ['MECOM', 'orderKeyDate', '6', 'Required', 'Timestamp', ['STRING', 'NUMBER'], None, None], ['MECOM', 'orderID', '7', 'Required', 'Text (64)', 'STRING', None, None], ['MECOM', 'symbol', '8', 'Required', 'Symbol', 'STRING', None, None], ['MECOM', 'priorOrderKeyDate', '9', 'Conditional', 'Timestamp', ['STRING', 'NUMBER'], None, None], ['MECOM', 'priorOrderID', '10', 'Conditional', 'Text (64)', 'STRING', None, None], ['MECOM', 'originatingIMID', '11', 'Conditional', 'CAT Reporter IMID', 'STRING', None, None], ['MECOM', 'eventTimestamp', '12', 'Required', 'Timestamp', ['STRING', 'NUMBER'], None, None], ['MECOM', 'side', '13', 'Required', 'Choice', 'STRING', ['B', 'SL', 'SS', 'SX'], None], ['MECOM', 'price', '14', 'Conditional', 'Price', 'NUMBER', None, None], ['MECOM', 'quantity', '15', 'Required', 'Real Quantity', 'NUMBER', None, None], ['MECOM', 'minQty', '16', 'Conditional', 'Whole Quantity', 'NUMBER', None, None], ['MECOM', 'leavesQty', '17', 'Required', 'Real Quantity', 'NUMBER', None, None], ['MECOM', 'orderType', '18', 'Required', 'Choice', 'STRING', ['CAB', 'LMT', 'MKT'], None], ['MECOM', 'timeInForce', '19', 'Required', 'Name/Value Pairs', 'OBJECT', None, None], ['MECOM', 'tradingSession', '20', 'Required', 'Choice', 'STRING', ['FOR', 'PRE', 'PREREG', 'REG', 'REGPOST', 'POST', 'PREPOST', 'ALL'], None], ['MECOM', 'handlingInstructions', '21', 'Conditional', 'Name/Value Pairs', 'OBJECT', None, None], ['MECOM', 'seqNum', '22', 'Conditional', 'Alphanumeric (40)', 'STRING', None, None], ['MECOM', 'atsDisplayInd', '23', 'Conditional', 'Choice', 'STRING', ['S', 'A', 'Y', 'N'], None], ['MECOM', 'displayPrice', '24', 'Conditional', 'Price', 'NUMBER', None, None], ['MECOM', 'workingPrice', '25', 'Conditional', 'Price', 'NUMBER', None, None], ['MECOM', 'displayQty', '26', 'Conditional', 'Whole Quantity', 'NUMBER', None, None], ['MECOM', 'nbbPrice', '27', 'Conditional', 'Price', 'NUMBER', None, None], ['MECOM', 'nbbQty', '28', 'Conditional', 'Whole Quantity', 'NUMBER', None, None], ['MECOM', 'nboPrice', '29', 'Conditional', 'Price', 'NUMBER', None, None], ['MECOM', 'nboQty', '30', 'Conditional', 'Whole Quantity', 'NUMBER', None, None], ['MECOM', 'nbboSource', '31', 'Conditional', 'Choice', 'STRING', ['D', 'S', 'H', 'NA'], None], ['MECOM', 'nbboTimestamp', '32', 'Conditional', 'Timestamp', ['STRING', 'NUMBER'], None, None], ['MEFA', 'actionType', '1', 'Required', 'Choice', 'STRING', ['NEW', 'COR', 'RPR', 'DEL'], None], ['MEFA', 'errorROEID', '2', 'Conditional', 'Unsigned', 'NUMBER', None, None], ['MEFA', 'firmROEID', '3', 'Required', 'Text (64)', 'STRING', None, None], ['MEFA', 'type', '4', 'Required', 'Message Type', 'STRING', None, None], ['MEFA', 'CATReporterIMID', '5', 'Optional', 'CAT Reporter IMID', 'STRING', None, None], ['MEFA', 'fillKeyDate', '6', 'Required', 'Timestamp', ['STRING', 'NUMBER'], None, None], ['MEFA', 'fulfillmentID', '7', 'Required', 'Text (64)', 'STRING', None, None], ['MEFA', 'priorFillKeyDate', '8', 'Conditional', 'Timestamp', ['STRING', 'NUMBER'], None, None], ['MEFA', 'priorFulfillmentID', '9', 'Conditional', 'Text (64)', 'STRING', None, None], ['MEFA', 'symbol', '10', 'Required', 'Symbol', 'STRING', None, None], ['MEFA', 'originatingIMID', '11', 'Conditional', 'CAT Reporter IMID', 'STRING', None, None], ['MEFA', 'eventTimestamp', '12', 'Required', 'Timestamp', ['STRING', 'NUMBER'], None, None], ['MEFA', 'manualFlag', '13', 'Required', 'Boolean', 'BOOLEAN', None, None], ['MEFA', 'electronicTimestamp', '14', 'Conditional', 'Timestamp', ['STRING', 'NUMBER'], None, None], ['MEFA', 'quantity', '15', 'Required', 'Real Quantity', 'NUMBER', None, None], ['MEFA', 'capacity', '16', 'Required', 'Choice', 'STRING', ['A', 'P', 'R'], None], ['MEFA', 'price', '17', 'Required', 'Price', 'NUMBER', None, None], ['MEFA', 'fulfillmentLinkType', '18', 'Required', 'Choice', 'STRING', ['Y', 'YF', 'YP', 'YE', 'FOR', 'O'], None], ['MEFA', 'clientDetails', '19', 'Required', 'Fulfillment Side Details', 'ARRAY', None, 'Array Elements exist'], ['MEFA', 'firmDetails', '20', 'Conditional', 'Fulfillment Side Details', 'ARRAY', None, 'Array Elements exist'], ['MEIR', 'actionType', '1', 'Required', 'Choice', 'STRING', ['NEW', 'COR', 'RPR', 'DEL'], None], ['MEIR', 'errorROEID', '2', 'Conditional', 'Unsigned', 'NUMBER', None, None], ['MEIR', 'firmROEID', '3', 'Required', 'Text (64)', 'STRING', None, None], ['MEIR', 'type', '4', 'Required', 'Message Type', 'STRING', None, None], ['MEIR', 'CATReporterIMID', '5', 'Optional', 'CAT Reporter IMID', 'STRING', None, None], ['MEIR', 'orderKeyDate', '6', 'Required', 'Timestamp', ['STRING', 'NUMBER'], None, None], ['MEIR', 'orderID', '7', 'Required', 'Text (64)', 'STRING', None, None], ['MEIR', 'symbol', '8', 'Required', 'Symbol', 'STRING', None, None], ['MEIR', 'parentOrderKeyDate', '9', 'Conditional', 'Timestamp', ['STRING', 'NUMBER'], None, None], ['MEIR', 'parentOrderID', '10', 'Conditional', 'Text (64)', 'STRING', None, None], ['MEIR', 'originatingIMID', '11', 'Conditional', 'CAT Reporter IMID', 'STRING', None, None], ['MEIR', 'eventTimestamp', '12', 'Required', 'Timestamp', ['STRING', 'NUMBER'], None, None], ['MEIR', 'manualFlag', '13', 'Required', 'Boolean', 'BOOLEAN', None, None], ['MEIR', 'electronicTimestamp', '14', 'Conditional', 'Timestamp', ['STRING', 'NUMBER'], None, None], ['MEIR', 'deptType', '15', 'Required', 'Choice', 'STRING', ['A', 'ATS', 'DMA', 'FB', 'SA', 'T', 'O'], None], ['MEIR', 'receivingDeskType', '16', 'Required', 'Choice', 'STRING', ['A', 'AR', 'B', 'C', 'CR', 'D', 'EC', 'FB', 'IN', 'IS', 'O', 'PF', 'PR', 'PT', 'S', 'SW', 'T', 'TR'], None], ['MEIR', 'infoBarrierID', '17', 'Conditional', 'Text (20)', 'STRING', None, None], ['MEIR', 'side', '18', 'Required', 'Choice', 'STRING', ['B', 'SL', 'SS', 'SX'], None], ['MEIR', 'price', '19', 'Conditional', 'Price', 'NUMBER', None, None], ['MEIR', 'quantity', '20', 'Required', 'Real Quantity', 'NUMBER', None, None], ['MEIR', 'minQty', '21', 'Conditional', 'Whole Quantity', 'NUMBER', None, None], ['MEIR', 'orderType', '22', 'Required', 'Choice', 'STRING', ['CAB', 'LMT', 'MKT'], None], ['MEIR', 'handlingInstructions', '23', 'Conditional', 'Name/Value Pairs', 'OBJECT', None, None], ['MEIR', 'timeInForce', '24', 'Required', 'Name/Value Pairs', 'OBJECT', None, None], ['MEIR', 'tradingSession', '25', 'Required', 'Choice', 'STRING', ['FOR', 'PRE', 'PREREG', 'REG', 'REGPOST', 'POST', 'PREPOST', 'ALL'], None], ['MENO', 'actionType', '1', 'Required', 'Choice', 'STRING', ['NEW', 'COR', 'RPR', 'DEL'], None], ['MENO', 'errorROEID', '2', 'Conditional', 'Unsigned', 'NUMBER', None, None], ['MENO', 'firmROEID', '3', 'Required', 'Text (64)', 'STRING', None, None], ['MENO', 'type', '4', 'Required', 'Message Type', 'STRING', None, None], ['MENO', 'CATReporterIMID', '5', 'Optional', 'CAT Reporter IMID', 'STRING', None, None], ['MENO', 'orderKeyDate', '6', 'Required', 'Timestamp', ['STRING', 'NUMBER'], None, None], ['MENO', 'orderID', '7', 'Required', 'Text (64)', 'STRING', None, None], ['MENO', 'symbol', '8', 'Required', 'Symbol', 'STRING', None, None], ['MENO', 'eventTimestamp', '9', 'Required', 'Timestamp', ['STRING', 'NUMBER'], None, None], ['MENO', 'manualFlag', '10', 'Required', 'Boolean', 'BOOLEAN', None, None], ['MENO', 'electronicDupFlag', '11', 'Required', 'Boolean', 'BOOLEAN', None, None], ['MENO', 'electronicTimestamp', '12', 'Conditional', 'Timestamp', ['STRING', 'NUMBER'], None, None], ['MENO', 'manualOrderKeyDate', '13', 'Optional', 'Timestamp', ['STRING', 'NUMBER'], None, None], ['MENO', 'manualOrderID', '14', 'Optional', 'Text (64)', 'STRING', None, None], ['MENO', 'deptType', '15', 'Required', 'Choice', 'STRING', ['A', 'ATS', 'DMA', 'FB', 'SA', 'T', 'O'], None], ['MENO', 'quoteKeyDate', '16', 'Conditional', 'Timestamp', ['STRING', 'NUMBER'], None, None], ['MENO', 'quoteID', '17', 'Conditional', 'Text (64)', 'STRING', None, None], ['MENO', 'side', '18', 'Required', 'Choice', 'STRING', ['B', 'SL', 'SS', 'SX'], None], ['MENO', 'price', '19', 'Conditional', 'Price', 'NUMBER', None, None], ['MENO', 'quantity', '20', 'Required', 'Real Quantity', 'NUMBER', None, None], ['MENO', 'minQty', '21', 'Conditional', 'Whole Quantity', 'NUMBER', None, None], ['MENO', 'orderType', '22', 'Required', 'Choice', 'STRING', ['CAB', 'LMT', 'MKT'], None], ['MENO', 'timeInForce', '23', 'Required', 'Name/Value Pairs', 'OBJECT', None, None], ['MENO', 'tradingSession', '24', 'Required', 'Choice', 'STRING', ['FOR', 'PRE', 'PREREG', 'REG', 'REGPOST', 'POST', 'PREPOST', 'ALL'], None], ['MENO', 'handlingInstructions', '25', 'Conditional', 'Name/Value Pairs', 'OBJECT', None, None], ['MENO', 'custDspIntrFlag', '26', 'Required', 'Boolean', 'BOOLEAN', None, None], ['MENO', 'firmDesignatedID', '27', 'Required', 'Text (40)', 'STRING', None, None], ['MENO', 'accountHolderType', '28', 'Required', 'Choice', 'STRING', ['A', 'E', 'F', 'I', 'O', 'V', 'P', 'X'], None], ['MENO', 'affiliateFlag', '29', 'Required', 'Boolean', 'BOOLEAN', None, None], ['MENO', 'infoBarrierID', '30', 'Conditional', 'Text (20)', 'STRING', None, None], ['MENO', 'aggregatedOrders', '31', 'Conditional', 'Aggregated Orders', 'ARRAY', None, 'Array Elements exist'], ['MENO', 'negotiatedTradeFlag', '32', 'Required', 'Boolean', 'BOOLEAN', None, None], ['MENO', 'representativeInd', '33', 'Required', 'Choice', 'STRING', ['Y', 'YS', 'YF', 'YP', 'YE', 'O', 'N'], None], ['MENO', 'seqNum', '34', 'Conditional', 'Alphanumeric (40)', 'STRING', None, None], ['MENO', 'atsDisplayInd', '35', 'Conditional', 'Choice', 'STRING', ['S', 'A', 'Y', 'N'], None], ['MENO', 'displayPrice', '36', 'Conditional', 'Price', 'NUMBER', None, None], ['MENO', 'workingPrice', '37', 'Conditional', 'Price', 'NUMBER', None, None], ['MENO', 'displayQty', '38', 'Conditional', 'Whole Quantity', 'NUMBER', None, None], ['MENO', 'atsOrderType', '39', 'Conditional', 'Array', 'ARRAY', None, None], ['MENO', 'nbbPrice', '40', 'Conditional', 'Price', 'NUMBER', None, None], ['MENO', 'nbbQty', '41', 'Conditional', 'Whole Quantity', 'NUMBER', None, None], ['MENO', 'nboPrice', '42', 'Conditional', 'Price', 'NUMBER', None, None], ['MENO', 'nboQty', '43', 'Conditional', 'Whole Quantity', 'NUMBER', None, None], ['MENO', 'nbboSource', '44', 'Conditional', 'Choice', 'STRING', ['D', 'S', 'H', 'NA'], None], ['MENO', 'nbboTimestamp', '45', 'Conditional', 'Timestamp', ['STRING', 'NUMBER'], None, None], ['MENOS', 'actionType', '1', 'Required', 'Choice', 'STRING', ['NEW', 'COR', 'RPR', 'DEL'], None], ['MENOS', 'errorROEID', '2', 'Conditional', 'Unsigned', 'NUMBER', None, None], ['MENOS', 'firmROEID', '3', 'Required', 'Text (64)', 'STRING', None, None], ['MENOS', 'type', '4', 'Required', 'Message Type', 'STRING', None, None], ['MENOS', 'CATReporterIMID', '5', 'Optional', 'CAT Reporter IMID', 'STRING', None, None], ['MENOS', 'orderKeyDate', '6', 'Required', 'Timestamp', ['STRING', 'NUMBER'], None, None], ['MENOS', 'orderID', '7', 'Required', 'Text (64)', 'STRING', None, None], ['MENOS', 'symbol', '8', 'Required', 'Symbol', 'STRING', None, None], ['MENOS', 'originatingIMID', '9', 'Conditional', 'CAT Reporter IMID', 'STRING', None, None], ['MENOS', 'eventTimestamp', '10', 'Required', 'Timestamp', ['STRING', 'NUMBER'], None, None], ['MENOS', 'aggregatedOrders', '11', 'Conditional', 'Aggregated Orders', 'ARRAY', None, 'Array Elements exist'], ['MENOS', 'firmDesignatedID', '12', 'Conditional', 'Text (40)', 'STRING', None, None], ['MENQ', 'actionType', '1', 'Required', 'Choice', 'STRING', ['NEW', 'COR', 'RPR', 'DEL'], None], ['MENQ', 'errorROEID', '2', 'Conditional', 'Unsigned', 'NUMBER', None, None], ['MENQ', 'firmROEID', '3', 'Required', 'Text (64)', 'STRING', None, None], ['MENQ', 'type', '4', 'Required', 'Message Type', 'STRING', None, None], ['MENQ', 'CATReporterIMID', '5', 'Optional', 'CAT Reporter IMID', 'STRING', None, None], ['MENQ', 'quoteKeyDate', '6', 'Required', 'Timestamp', ['STRING', 'NUMBER'], None, None], ['MENQ', 'quoteID', '7', 'Required', 'Text (64)', 'STRING', None, None], ['MENQ', 'symbol', '8', 'Required', 'Symbol', 'STRING', None, None], ['MENQ', 'priorQuoteKeyDate', '9', 'Conditional', 'Timestamp', ['STRING', 'NUMBER'], None, None], ['MENQ', 'priorQuoteID', '10', 'Conditional', 'Text (64)', 'STRING', None, None], ['MENQ', 'eventTimestamp', '11', 'Required', 'Timestamp', ['STRING', 'NUMBER'], None, None], ['MENQ', 'seqNum', '12', 'Conditional', 'Alphanumeric (40)', 'STRING', None, None], ['MENQ', 'senderIMID', '13', 'Conditional', 'Industry Member ID', 'STRING', None, None], ['MENQ', 'destination', '14', 'Conditional', 'Industry Member ID', 'STRING', None, None], ['MENQ', 'routedQuoteID', '15', 'Conditional', 'Text (64)', 'STRING', None, None], ['MENQ', 'onlyOneQuoteFlag', '16', 'Required', 'Boolean', 'BOOLEAN', None, None], ['MENQ', 'bidPrice', '17', 'Conditional', 'Price', 'NUMBER', None, None], ['MENQ', 'bidQty', '18', 'Conditional', 'Whole Quantity', 'NUMBER', None, None], ['MENQ', 'askPrice', '19', 'Conditional', 'Price', 'NUMBER', None, None], ['MENQ', 'askQty', '20', 'Conditional', 'Whole Quantity', 'NUMBER', None, None], ['MENQ', 'firmDesignatedID', '21', 'Required', 'Text (40)', 'STRING', None, None], ['MENQ', 'accountHolderType', '22', 'Required', 'Choice', 'STRING', ['A', 'E', 'F', 'I', 'O', 'V', 'P', 'X'], None], ['MENQ', 'unsolicitedInd', '23', 'Required', 'Choice', 'STRING', ['U', 'A', 'B', 'N'], None], ['MENQ', 'mpStatusCode', '24', 'Conditional', 'Choice', 'STRING', ['O', 'C'], None], ['MENQ', 'quoteRejectedFlag', '25', 'Optional', 'Boolean', 'BOOLEAN', None, None], ['MEOA', 'actionType', '1', 'Required', 'Choice', 'STRING', ['NEW', 'COR', 'RPR', 'DEL'], None], ['MEOA', 'errorROEID', '2', 'Conditional', 'Unsigned', 'NUMBER', None, None], ['MEOA', 'firmROEID', '3', 'Required', 'Text (64)', 'STRING', None, None], ['MEOA', 'type', '4', 'Required', 'Message Type', 'STRING', None, None], ['MEOA', 'CATReporterIMID', '5', 'Optional', 'CAT Reporter IMID', 'STRING', None, None], ['MEOA', 'orderKeyDate', '6', 'Required', 'Timestamp', ['STRING', 'NUMBER'], None, None], ['MEOA', 'orderID', '7', 'Required', 'Text (64)', 'STRING', None, None], ['MEOA', 'symbol', '8', 'Required', 'Symbol', 'STRING', None, None], ['MEOA', 'eventTimestamp', '9', 'Required', 'Timestamp', ['STRING', 'NUMBER'], None, None], ['MEOA', 'manualFlag', '10', 'Required', 'Boolean', 'BOOLEAN', None, None], ['MEOA', 'electronicDupFlag', '11', 'Required', 'Boolean', 'BOOLEAN', None, None], ['MEOA', 'electronicTimestamp', '12', 'Conditional', 'Timestamp', ['STRING', 'NUMBER'], None, None], ['MEOA', 'receiverIMID', '13', 'Required', 'Industry Member ID', 'STRING', None, None], ['MEOA', 'senderIMID', '14', 'Required', ['Industry Member ID', 'Exchange ID'], 'STRING', None, None], ['MEOA', 'senderType', '15', 'Required', 'Choice', 'STRING', ['F', 'E'], None], ['MEOA', 'routedOrderID', '16', 'Conditional', 'Text (64)', 'STRING', None, None], ['MEOA', 'manualOrderKeyDate', '17', 'Optional', 'Timestamp', ['STRING', 'NUMBER'], None, None], ['MEOA', 'manualOrderID', '18', 'Optional', 'Text (64)', 'STRING', None, None], ['MEOA', 'affiliateFlag', '19', 'Required', 'Boolean', 'BOOLEAN', None, None], ['MEOA', 'deptType', '20', 'Required', 'Choice', 'STRING', ['A', 'ATS', 'DMA', 'FB', 'SA', 'T', 'O'], None], ['MEOA', 'side', '21', 'Required', 'Choice', 'STRING', ['B', 'SL', 'SS', 'SX'], None], ['MEOA', 'price', '22', 'Conditional', 'Price', 'NUMBER', None, None], ['MEOA', 'quantity', '23', 'Required', 'Real Quantity', 'NUMBER', None, None], ['MEOA', 'minQty', '24', 'Conditional', 'Whole Quantity', 'NUMBER', None, None], ['MEOA', 'orderType', '25', 'Required', 'Choice', 'STRING', ['CAB', 'LMT', 'MKT'], None], ['MEOA', 'timeInForce', '26', 'Required', 'Name/Value Pairs', 'OBJECT', None, None], ['MEOA', 'tradingSession', '27', 'Required', 'Choice', 'STRING', ['FOR', 'PRE', 'PREREG', 'REG', 'REGPOST', 'POST', 'PREPOST', 'ALL'], None], ['MEOA', 'isoInd', '28', 'Required', 'Choice', 'STRING', ['ISOD', 'ISOI', 'NA'], None], ['MEOA', 'handlingInstructions', '29', 'Conditional', 'Name/Value Pairs', 'OBJECT', None, None], ['MEOA', 'custDspIntrFlag', '30', 'Required', 'Boolean', 'BOOLEAN', None, None], ['MEOA', 'infoBarrierID', '31', 'Conditional', 'Text (20)', 'STRING', None, None], ['MEOA', 'seqNum', '32', 'Conditional', 'Alphanumeric (40)', 'STRING', None, None], ['MEOA', 'atsDisplayInd', '33', 'Conditional', 'Choice', 'STRING', ['S', 'A', 'Y', 'N'], None], ['MEOA', 'displayPrice', '34', 'Conditional', 'Price', 'NUMBER', None, None], ['MEOA', 'workingPrice', '35', 'Conditional', 'Price', 'NUMBER', None, None], ['MEOA', 'displayQty', '36', 'Conditional', 'Whole Quantity', 'NUMBER', None, None], ['MEOA', 'atsOrderType', '37', 'Conditional', 'Array', 'ARRAY', None, None], ['MEOA', 'nbbPrice', '38', 'Conditional', 'Price', 'NUMBER', None, None], ['MEOA', 'nbbQty', '39', 'Conditional', 'Whole Quantity', 'NUMBER', None, None], ['MEOA', 'nboPrice', '40', 'Conditional', 'Price', 'NUMBER', None, None], ['MEOA', 'nboQty', '41', 'Conditional', 'Whole Quantity', 'NUMBER', None, None], ['MEOA', 'nbboSource', '42', 'Conditional', 'Choice', 'STRING', ['D', 'S', 'H', 'NA'], None], ['MEOA', 'nbboTimestamp', '43', 'Conditional', 'Timestamp', ['STRING', 'NUMBER'], None, None], ['MEOC', 'actionType', '1', 'Required', 'Choice', 'STRING', ['NEW', 'COR', 'RPR', 'DEL'], None], ['MEOC', 'errorROEID', '2', 'Conditional', 'Unsigned', 'NUMBER', None, None], ['MEOC', 'firmROEID', '3', 'Required', 'Text (64)', 'STRING', None, None], ['MEOC', 'type', '4', 'Required', 'Message Type', 'STRING', None, None], ['MEOC', 'CATReporterIMID', '5', 'Optional', 'CAT Reporter IMID', 'STRING', None, None], ['MEOC', 'orderKeyDate', '6', 'Required', 'Timestamp', ['STRING', 'NUMBER'], None, None], ['MEOC', 'orderID', '7', 'Required', 'Text (64)', 'STRING', None, None], ['MEOC', 'symbol', '8', 'Required', 'Symbol', 'STRING', None, None], ['MEOC', 'originatingIMID', '9', 'Conditional', 'CAT Reporter IMID', 'STRING', None, None], ['MEOC', 'eventTimestamp', '10', 'Required', 'Timestamp', ['STRING', 'NUMBER'], None, None], ['MEOC', 'manualFlag', '11', 'Required', 'Boolean', 'BOOLEAN', None, None], ['MEOC', 'electronicTimestamp', '12', 'Conditional', 'Timestamp', ['STRING', 'NUMBER'], None, None], ['MEOC', 'cancelQty', '13', 'Required', 'Real Quantity', 'NUMBER', None, None], ['MEOC', 'leavesQty', '14', 'Required', 'Real Quantity', 'NUMBER', None, None], ['MEOC', 'initiator', '15', 'Required', 'Choice', 'STRING', ['C', 'F'], None], ['MEOC', 'seqNum', '16', 'Conditional', 'Alphanumeric (40)', 'STRING', None, None], ['MEOF', 'actionType', '1', 'Required', 'Choice', 'STRING', ['NEW', 'COR', 'RPR', 'DEL'], None], ['MEOF', 'errorROEID', '2', 'Conditional', 'Unsigned', 'NUMBER', None, None], ['MEOF', 'firmROEID', '3', 'Required', 'Text (64)', 'STRING', None, None], ['MEOF', 'type', '4', 'Required', 'Message Type', 'STRING', None, None], ['MEOF', 'CATReporterIMID', '5', 'Optional', 'CAT Reporter IMID', 'STRING', None, None], ['MEOF', 'fillKeyDate', '6', 'Required', 'Timestamp', ['STRING', 'NUMBER'], None, None], ['MEOF', 'fulfillmentID', '7', 'Required', 'Text (64)', 'STRING', None, None], ['MEOF', 'symbol', '8', 'Required', 'Symbol', 'STRING', None, None], ['MEOF', 'eventTimestamp', '9', 'Required', 'Timestamp', ['STRING', 'NUMBER'], None, None], ['MEOF', 'manualFlag', '10', 'Required', 'Boolean', 'BOOLEAN', None, None], ['MEOF', 'electronicTimestamp', '11', 'Conditional', 'Timestamp', ['STRING', 'NUMBER'], None, None], ['MEOF', 'fulfillmentLinkType', '12', 'Required', 'Choice', 'STRING', ['Y', 'YF', 'YP', 'YE', 'FOR', 'O'], None], ['MEOF', 'cancelFlag', '13', 'Required', 'Boolean', 'BOOLEAN', None, None], ['MEOF', 'cancelTimestamp', '14', 'Conditional', 'Timestamp', ['STRING', 'NUMBER'], None, None], ['MEOF', 'quantity', '15', 'Required', 'Real Quantity', 'NUMBER', None, None], ['MEOF', 'price', '16', 'Required', 'Price', 'NUMBER', None, None], ['MEOF', 'capacity', '17', 'Required', 'Choice', 'STRING', ['A', 'P', 'R'], None], ['MEOF', 'clientDetails', '18', 'Required', 'Fulfillment Side Details', 'ARRAY', None, 'Array Elements exist'], ['MEOF', 'firmDetails', '19', 'Conditional', 'Fulfillment Side Details', 'ARRAY', None, 'Array Elements exist'], ['MEOJ', 'actionType', '1', 'Required', 'Choice', 'STRING', ['NEW', 'COR', 'RPR', 'DEL'], None], ['MEOJ', 'errorROEID', '2', 'Conditional', 'Unsigned', 'NUMBER', None, None], ['MEOJ', 'firmROEID', '3', 'Required', 'Text (64)', 'STRING', None, None], ['MEOJ', 'type', '4', 'Required', 'Message Type', 'STRING', None, None], ['MEOJ', 'CATReporterIMID', '5', 'Optional', 'CAT Reporter IMID', 'STRING', None, None], ['MEOJ', 'orderKeyDate', '6', 'Required', 'Timestamp', ['STRING', 'NUMBER'], None, None], ['MEOJ', 'orderID', '7', 'Required', 'Text (64)', 'STRING', None, None], ['MEOJ', 'symbol', '8', 'Required', 'Symbol', 'STRING', None, None], ['MEOJ', 'priorOrderKeyDate', '9', 'Conditional', 'Timestamp', ['STRING', 'NUMBER'], None, None], ['MEOJ', 'priorOrderID', '10', 'Conditional', 'Text (64)', 'STRING', None, None], ['MEOJ', 'originatingIMID', '11', 'Conditional', 'CAT Reporter IMID', 'STRING', None, None], ['MEOJ', 'eventTimestamp', '12', 'Required', 'Timestamp', ['STRING', 'NUMBER'], None, None], ['MEOJ', 'manualFlag', '13', 'Required', 'Boolean', 'BOOLEAN', None, None], ['MEOJ', 'electronicTimestamp', '14', 'Conditional', 'Timestamp', ['STRING', 'NUMBER'], None, None], ['MEOJ', 'initiator', '15', 'Required', 'Choice', 'STRING', ['C', 'F'], None], ['MEOJ', 'price', '16', 'Conditional', 'Price', 'NUMBER', None, None], ['MEOJ', 'quantity', '17', 'Conditional', 'Real Quantity', 'NUMBER', None, None], ['MEOJ', 'minQty', '18', 'Conditional', 'Whole Quantity', 'NUMBER', None, None], ['MEOJ', 'leavesQty', '19', 'Conditional', 'Real Quantity', 'NUMBER', None, None], ['MEOJ', 'seqNum', '20', 'Conditional', 'Alphanumeric (40)', 'STRING', None, None], ['MEOJ', 'atsDisplayInd', '21', 'Conditional', 'Choice', 'STRING', ['S', 'A', 'Y', 'N'], None], ['MEOJ', 'displayPrice', '22', 'Conditional', 'Price', 'NUMBER', None, None], ['MEOJ', 'workingPrice', '23', 'Conditional', 'Price', 'NUMBER', None, None], ['MEOJ', 'displayQty', '24', 'Conditional', 'Whole Quantity', 'NUMBER', None, None], ['MEOJ', 'nbbPrice', '25', 'Conditional', 'Price', 'NUMBER', None, None], ['MEOJ', 'nbbQty', '26', 'Conditional', 'Whole Quantity', 'NUMBER', None, None], ['MEOJ', 'nboPrice', '27', 'Conditional', 'Price', 'NUMBER', None, None], ['MEOJ', 'nboQty', '28', 'Conditional', 'Whole Quantity', 'NUMBER', None, None], ['MEOJ', 'nbboSource', '29', 'Conditional', 'Choice', 'STRING', ['D', 'S', 'H', 'NA'], None], ['MEOJ', 'nbboTimestamp', '30', 'Conditional', 'Timestamp', ['STRING', 'NUMBER'], None, None], ['MEOM', 'actionType', '1', 'Required', 'Choice', 'STRING', ['NEW', 'COR', 'RPR', 'DEL'], None], ['MEOM', 'errorROEID', '2', 'Conditional', 'Unsigned', 'NUMBER', None, None], ['MEOM', 'firmROEID', '3', 'Required', 'Text (64)', 'STRING', None, None], ['MEOM', 'type', '4', 'Required', 'Message Type', 'STRING', None, None], ['MEOM', 'CATReporterIMID', '5', 'Optional', 'CAT Reporter IMID', 'STRING', None, None], ['MEOM', 'orderKeyDate', '6', 'Required', 'Timestamp', ['STRING', 'NUMBER'], None, None], ['MEOM', 'orderID', '7', 'Required', 'Text (64)', 'STRING', None, None], ['MEOM', 'symbol', '8', 'Required', 'Symbol', 'STRING', None, None], ['MEOM', 'priorOrderKeyDate', '9', 'Conditional', 'Timestamp', ['STRING', 'NUMBER'], None, None], ['MEOM', 'priorOrderID', '10', 'Conditional', 'Text (64)', 'STRING', None, None], ['MEOM', 'originatingIMID', '11', 'Conditional', 'CAT Reporter IMID', 'STRING', None, None], ['MEOM', 'eventTimestamp', '12', 'Required', 'Timestamp', ['STRING', 'NUMBER'], None, None], ['MEOM', 'manualFlag', '13', 'Required', 'Boolean', 'BOOLEAN', None, None], ['MEOM', 'manualOrderKeyDate', '14', 'Optional', 'Timestamp', ['STRING', 'NUMBER'], None, None], ['MEOM', 'manualOrderID', '15', 'Optional', 'Text (64)', 'STRING', None, None], ['MEOM', 'electronicDupFlag', '16', 'Required', 'Boolean', 'BOOLEAN', None, None], ['MEOM', 'electronicTimestamp', '17', 'Conditional', 'Timestamp', ['STRING', 'NUMBER'], None, None], ['MEOM', 'receiverIMID', '18', 'Conditional', 'Industry Member ID', 'STRING', None, None], ['MEOM', 'senderIMID', '19', 'Conditional', ['Industry Member ID', 'Exchange ID'], 'STRING', None, None], ['MEOM', 'senderType', '20', 'Conditional', 'Choice', 'STRING', ['F', 'E'], None], ['MEOM', 'routedOrderID', '21', 'Conditional', 'Text (64)', 'STRING', None, None], ['MEOM', 'quoteID', '22', 'Conditional', 'Text (64)', 'STRING', None, None], ['MEOM', 'quoteKeyDate', '23', 'Conditional', 'Timestamp', ['STRING', 'NUMBER'], None, None], ['MEOM', 'priorQuoteID', '24', 'Conditional', 'Text (64)', 'STRING', None, None], ['MEOM', 'priorQuoteKeyDate', '25', 'Conditional', 'Timestamp', ['STRING', 'NUMBER'], None, None], ['MEOM', 'initiator', '26', 'Required', 'Choice', 'STRING', ['C', 'F'], None], ['MEOM', 'side', '27', 'Required', 'Choice', 'STRING', ['B', 'SL', 'SS', 'SX'], None], ['MEOM', 'price', '28', 'Conditional', 'Price', 'NUMBER', None, None], ['MEOM', 'quantity', '29', 'Required', 'Real Quantity', 'NUMBER', None, None], ['MEOM', 'minQty', '30', 'Conditional', 'Whole Quantity', 'NUMBER', None, None], ['MEOM', 'leavesQty', '31', 'Required', 'Real Quantity', 'NUMBER', None, None], ['MEOM', 'orderType', '32', 'Required', 'Choice', 'STRING', ['CAB', 'LMT', 'MKT'], None], ['MEOM', 'timeInForce', '33', 'Required', 'Name/Value Pairs', 'OBJECT', None, None], ['MEOM', 'tradingSession', '34', 'Required', 'Choice', 'STRING', ['FOR', 'PRE', 'PREREG', 'REG', 'REGPOST', 'POST', 'PREPOST', 'ALL'], None], ['MEOM', 'isoInd', '35', 'Required', 'Choice', 'STRING', ['ISOD', 'ISOI', 'NA'], None], ['MEOM', 'handlingInstructions', '36', 'Conditional', 'Name/Value Pairs', 'OBJECT', None, None], ['MEOM', 'custDspIntrFlag', '37', 'Required', 'Boolean', 'BOOLEAN', None, None], ['MEOM', 'infoBarrierID', '38', 'Conditional', 'Text (20)', 'STRING', None, None], ['MEOM', 'aggregatedOrders', '39', 'Conditional', 'Aggregated Orders', 'ARRAY', None, 'Array Elements exist'], ['MEOM', 'representativeInd', '40', 'Required', 'Choice', 'STRING', ['Y', 'YS', 'YF', 'YP', 'YE', 'O', 'N'], None], ['MEOM', 'seqNum', '41', 'Conditional', 'Alphanumeric (40)', 'STRING', None, None], ['MEOM', 'atsDisplayInd', '42', 'Conditional', 'Choice', 'STRING', ['S', 'A', 'Y', 'N'], None], ['MEOM', 'displayPrice', '43', 'Conditional', 'Price', 'NUMBER', None, None], ['MEOM', 'workingPrice', '44', 'Conditional', 'Price', 'NUMBER', None, None], ['MEOM', 'displayQty', '45', 'Conditional', 'Whole Quantity', 'NUMBER', None, None], ['MEOM', 'atsOrderType', '46', 'Conditional', 'Array', 'ARRAY', None, None], ['MEOM', 'nbbPrice', '47', 'Conditional', 'Price', 'NUMBER', None, None], ['MEOM', 'nbbQty', '48', 'Conditional', 'Whole Quantity', 'NUMBER', None, None], ['MEOM', 'nboPrice', '49', 'Conditional', 'Price', 'NUMBER', None, None], ['MEOM', 'nboQty', '50', 'Conditional', 'Whole Quantity', 'NUMBER', None, None], ['MEOM', 'nbboSource', '51', 'Conditional', 'Choice', 'STRING', ['D', 'S', 'H', 'NA'], None], ['MEOM', 'nbboTimestamp', '52', 'Conditional', 'Timestamp', ['STRING', 'NUMBER'], None, None], ['MEOMS', 'actionType', '1', 'Required', 'Choice', 'STRING', ['NEW', 'COR', 'RPR', 'DEL'], None], ['MEOMS', 'errorROEID', '2', 'Conditional', 'Unsigned', 'NUMBER', None, None], ['MEOMS', 'firmROEID', '3', 'Required', 'Text (64)', 'STRING', None, None], ['MEOMS', 'type', '4', 'Required', 'Message Type', 'STRING', None, None], ['MEOMS', 'CATReporterIMID', '5', 'Optional', 'CAT Reporter IMID', 'STRING', None, None], ['MEOMS', 'orderKeyDate', '6', 'Required', 'Timestamp', ['STRING', 'NUMBER'], None, None], ['MEOMS', 'orderID', '7', 'Required', 'Text (64)', 'STRING', None, None], ['MEOMS', 'symbol', '8', 'Required', 'Symbol', 'STRING', None, None], ['MEOMS', 'originatingIMID', '9', 'Conditional', 'CAT Reporter IMID', 'STRING', None, None], ['MEOMS', 'eventTimestamp', '10', 'Required', 'Timestamp', ['STRING', 'NUMBER'], None, None], ['MEOMS', 'aggregatedOrders', '11', 'Required', 'Aggregated Orders', 'ARRAY', None, 'Array Elements exist'], ['MEOR', 'actionType', '1', 'Required', 'Choice', 'STRING', ['NEW', 'COR', 'RPR', 'DEL'], None], ['MEOR', 'errorROEID', '2', 'Conditional', 'Unsigned', 'NUMBER', None, None], ['MEOR', 'firmROEID', '3', 'Required', 'Text (64)', 'STRING', None, None], ['MEOR', 'type', '4', 'Required', 'Message Type', 'STRING', None, None], ['MEOR', 'CATReporterIMID', '5', 'Optional', 'CAT Reporter IMID', 'STRING', None, None], ['MEOR', 'orderKeyDate', '6', 'Required', 'Timestamp', ['STRING', 'NUMBER'], None, None], ['MEOR', 'orderID', '7', 'Required', 'Text (64)', 'STRING', None, None], ['MEOR', 'symbol', '8', 'Required', 'Symbol', 'STRING', None, None], ['MEOR', 'originatingIMID', '9', 'Conditional', 'CAT Reporter IMID', 'STRING', None, None], ['MEOR', 'eventTimestamp', '10', 'Required', 'Timestamp', ['STRING', 'NUMBER'], None, None], ['MEOR', 'manualFlag', '11', 'Required', 'Boolean', 'BOOLEAN', None, None], ['MEOR', 'electronicDupFlag', '12', 'Required', 'Boolean', 'BOOLEAN', None, None], ['MEOR', 'electronicTimestamp', '13', 'Conditional', 'Timestamp', ['STRING', 'NUMBER'], None, None], ['MEOR', 'senderIMID', '14', 'Conditional', 'Industry Member ID', 'STRING', None, None], ['MEOR', 'destination', '15', 'Conditional', ['Industry Member ID', 'Exchange ID'], 'STRING', None, None], ['MEOR', 'destinationType', '16', 'Required', 'Choice', 'STRING', ['F', 'E', 'N'], None], ['MEOR', 'routedOrderID', '17', 'Conditional', 'Text (64)', 'STRING', None, None], ['MEOR', 'session', '18', 'Conditional', 'Text (40)', 'STRING', None, None], ['MEOR', 'side', '19', 'Required', 'Choice', 'STRING', ['B', 'SL', 'SS', 'SX'], None], ['MEOR', 'price', '20', 'Conditional', 'Price', 'NUMBER', None, None], ['MEOR', 'quantity', '21', 'Required', 'Real Quantity', 'NUMBER', None, None], ['MEOR', 'minQty', '22', 'Conditional', 'Whole Quantity', 'NUMBER', None, None], ['MEOR', 'orderType', '23', 'Required', 'Choice', 'STRING', ['CAB', 'LMT', 'MKT'], None], ['MEOR', 'timeInForce', '24', 'Required', 'Name/Value Pairs', 'OBJECT', None, None], ['MEOR', 'tradingSession', '25', 'Required', 'Choice', 'STRING', ['FOR', 'PRE', 'PREREG', 'REG', 'REGPOST', 'POST', 'PREPOST', 'ALL'], None], ['MEOR', 'affiliateFlag', '26', 'Required', 'Boolean', 'BOOLEAN', None, None], ['MEOR', 'isoInd', '27', 'Required', 'Choice', 'STRING', ['ISOD', 'ISOI', 'NA'], None], ['MEOR', 'handlingInstructions', '28', 'Conditional', 'Name/Value Pairs', 'OBJECT', None, None], ['MEOR', 'routeRejectedFlag', '29', 'Optional', 'Boolean', 'BOOLEAN', None, None], ['MEOR', 'dupROIDCond', '30', 'Required', 'Boolean', 'BOOLEAN', None, None], ['MEOR', 'seqNum', '31', 'Conditional', 'Alphanumeric (40)', 'STRING', None, None], ['MEOT', 'actionType', '1', 'Required', 'Choice', 'STRING', ['NEW', 'COR', 'RPR', 'DEL'], None], ['MEOT', 'errorROEID', '2', 'Conditional', 'Unsigned', 'NUMBER', None, None], ['MEOT', 'firmROEID', '3', 'Required', 'Text (64)', 'STRING', None, None], ['MEOT', 'type', '4', 'Required', 'Message Type', 'STRING', None, None], ['MEOT', 'CATReporterIMID', '5', 'Optional', 'CAT Reporter IMID', 'STRING', None, None], ['MEOT', 'tradeKeyDate', '6', 'Required', 'Timestamp', ['STRING', 'NUMBER'], None, None], ['MEOT', 'tradeID', '7', 'Required', 'Text (64)', 'STRING', None, None], ['MEOT', 'symbol', '8', 'Required', 'Symbol', 'STRING', None, None], ['MEOT', 'eventTimestamp', '9', 'Required', 'Timestamp', ['STRING', 'NUMBER'], None, None], ['MEOT', 'manualFlag', '10', 'Required', 'Boolean', 'BOOLEAN', None, None], ['MEOT', 'electronicTimestamp', '11', 'Conditional', 'Timestamp', ['STRING', 'NUMBER'], None, None], ['MEOT', 'cancelFlag', '12', 'Required', 'Boolean', 'BOOLEAN', None, None], ['MEOT', 'cancelTimestamp', '13', 'Conditional', 'Timestamp', ['STRING', 'NUMBER'], None, None], ['MEOT', 'quoteKeyDate', '14', 'Conditional', 'Timestamp', ['STRING', 'NUMBER'], None, None], ['MEOT', 'quoteID', '15', 'Conditional', 'Text (64)', 'STRING', None, None], ['MEOT', 'quantity', '16', 'Required', 'Real Quantity', 'NUMBER', None, None], ['MEOT', 'price', '17', 'Required', 'Price', 'NUMBER', None, None], ['MEOT', 'capacity', '18', 'Required', 'Choice', 'STRING', ['A', 'P', 'R'], None], ['MEOT', 'tapeTradeID', '19', 'Conditional', 'Text (40)', 'STRING', None, None], ['MEOT', 'marketCenterID', '20', 'Conditional', 'Choice', 'STRING', ['A', 'B', 'C', 'F', 'I', 'J', 'K', 'M', 'N', 'P', 'Q', 'V', 'W', 'X', 'Y', 'Z', 'DN', 'D', 'L', 'DC', 'O'], None], ['MEOT', 'sideDetailsInd', '21', 'Required', 'Choice', 'STRING', ['BUY', 'SELL', 'NA'], None], ['MEOT', 'buyDetails', '22', 'Conditional', 'Trade Side Details', 'ARRAY', None, 'Array Elements exist'], ['MEOT', 'sellDetails', '23', 'Conditional', 'Trade Side Details', 'ARRAY', None, 'Array Elements exist'], ['MEOT', 'reportingExceptionCode', '24', 'Conditional', 'Choice', 'STRING', ['F', 'N', 'P'], None], ['MEOT', 'seqNum', '25', 'Conditional', 'Alphanumeric (40)', 'STRING', None, None], ['MEOT', 'nbbPrice', '26', 'Conditional', 'Price', 'NUMBER', None, None], ['MEOT', 'nbbQty', '27', 'Conditional', 'Whole Quantity', 'NUMBER', None, None], ['MEOT', 'nboPrice', '28', 'Conditional', 'Price', 'NUMBER', None, None], ['MEOT', 'nboQty', '29', 'Conditional', 'Whole Quantity', 'NUMBER', None, None], ['MEOT', 'nbboSource', '30', 'Conditional', 'Choice', 'STRING', ['D', 'S', 'H', 'NA'], None], ['MEOT', 'nbboTimestamp', '31', 'Conditional', 'Timestamp', ['STRING', 'NUMBER'], None, None], ['MEOTS', 'actionType', '1', 'Required', 'Choice', 'STRING', ['NEW', 'COR', 'RPR', 'DEL'], None], ['MEOTS', 'errorROEID', '2', 'Conditional', 'Unsigned', 'NUMBER', None, None], ['MEOTS', 'firmROEID', '3', 'Required', 'Text (64)', 'STRING', None, None], ['MEOTS', 'type', '4', 'Required', 'Message Type', 'STRING', None, None], ['MEOTS', 'CATReporterIMID', '5', 'Optional', 'CAT Reporter IMID', 'STRING', None, None], ['MEOTS', 'tradeKeyDate', '6', 'Required', 'Timestamp', ['STRING', 'NUMBER'], None, None], ['MEOTS', 'tradeID', '7', 'Required', 'Text (64)', 'STRING', None, None], ['MEOTS', 'symbol', '8', 'Required', 'Symbol', 'STRING', None, None], ['MEOTS', 'eventTimestamp', '9', 'Required', 'Timestamp', ['STRING', 'NUMBER'], None, None], ['MEOTS', 'buyDetails', '10', 'Conditional', 'Trade Side Details', 'ARRAY', None, 'Array Elements exist'], ['MEOTS', 'sellDetails', '11', 'Conditional', 'Trade Side Details', 'ARRAY', None, 'Array Elements exist'], ['MEQC', 'actionType', '1', 'Required', 'Choice', 'STRING', ['NEW', 'COR', 'RPR', 'DEL'], None], ['MEQC', 'errorROEID', '2', 'Conditional', 'Unsigned', 'NUMBER', None, None], ['MEQC', 'firmROEID', '3', 'Required', 'Text (64)', 'STRING', None, None], ['MEQC', 'type', '4', 'Required', 'Message Type', 'STRING', None, None], ['MEQC', 'CATReporterIMID', '5', 'Optional', 'CAT Reporter IMID', 'STRING', None, None], ['MEQC', 'quoteKeyDate', '6', 'Required', 'Timestamp', ['STRING', 'NUMBER'], None, None], ['MEQC', 'quoteID', '7', 'Required', 'Text (64)', 'STRING', None, None], ['MEQC', 'symbol', '8', 'Required', 'Symbol', 'STRING', None, None], ['MEQC', 'originatingIMID', '9', 'Conditional', 'CAT Reporter IMID', 'STRING', None, None], ['MEQC', 'eventTimestamp', '10', 'Required', 'Timestamp', ['STRING', 'NUMBER'], None, None], ['MEQC', 'seqNum', '11', 'Conditional', 'Alphanumeric (40)', 'STRING', None, None], ['MEQC', 'reservedForFutureUse', '12', 'Optional', 'Text (0)', 'STRING', None, None], ['MEQC', 'initiator', '13', 'Required', 'Choice', 'STRING', ['C', 'F'], None], ['MEQC', 'mpStatusCode', '14', 'Conditional', 'Choice', 'STRING', ['O', 'C'], None], ['MEQR', 'actionType', '1', 'Required', 'Choice', 'STRING', ['NEW', 'COR', 'RPR', 'DEL'], None], ['MEQR', 'errorROEID', '2', 'Conditional', 'Unsigned', 'NUMBER', None, None], ['MEQR', 'firmROEID', '3', 'Required', 'Text (64)', 'STRING', None, None], ['MEQR', 'type', '4', 'Required', 'Message Type', 'STRING', None, None], ['MEQR', 'CATReporterIMID', '5', 'Optional', 'CAT Reporter IMID', 'STRING', None, None], ['MEQR', 'quoteKeyDate', '6', 'Required', 'Timestamp', ['STRING', 'NUMBER'], None, None], ['MEQR', 'quoteID', '7', 'Required', 'Text (64)', 'STRING', None, None], ['MEQR', 'symbol', '8', 'Required', 'Symbol', 'STRING', None, None], ['MEQR', 'receivedQuoteID', '9', 'Required', 'Text (64)', 'STRING', None, None], ['MEQR', 'eventTimestamp', '10', 'Required', 'Timestamp', ['STRING', 'NUMBER'], None, None], ['MEQR', 'seqNum', '11', 'Conditional', 'Alphanumeric (40)', 'STRING', None, None], ['MEQR', 'receiverIMID', '12', 'Required', 'Industry Member ID', 'STRING', None, None], ['MEQR', 'senderIMID', '13', 'Required', 'Industry Member ID', 'STRING', None, None], ['MEQR', 'onlyOneQuoteFlag', '14', 'Required', 'Boolean', 'BOOLEAN', None, None], ['MEQR', 'priorQuoteKeyDate', '15', 'Conditional', 'Timestamp', ['STRING', 'NUMBER'], None, None], ['MEQR', 'priorQuoteID', '16', 'Conditional', 'Text (64)', 'STRING', None, None], ['MEQR', 'bidPrice', '17', 'Conditional', 'Price', 'NUMBER', None, None], ['MEQR', 'bidQty', '18', 'Conditional', 'Whole Quantity', 'NUMBER', None, None], ['MEQR', 'askPrice', '19', 'Conditional', 'Price', 'NUMBER', None, None], ['MEQR', 'askQty', '20', 'Conditional', 'Whole Quantity', 'NUMBER', None, None], ['MEQR', 'mpStatusCode', '21', 'Conditional', 'Choice', 'STRING', ['O', 'C'], None], ['MEQR', 'unsolicitedInd', '22', 'Required', 'Choice', 'STRING', ['U', 'A', 'B', 'N'], None], ['MEQR', 'quoteWantedInd', '23', 'Conditional', 'Choice', 'STRING', ['A', 'B'], None], ['MOCO', 'actionType', '1', 'Required', 'Choice', 'STRING', ['NEW', 'COR', 'RPR', 'DEL'], None], ['MOCO', 'errorROEID', '2', 'Conditional', 'Unsigned', 'NUMBER', None, None], ['MOCO', 'firmROEID', '3', 'Required', 'Text (64)', 'STRING', None, None], ['MOCO', 'type', '4', 'Required', 'Message Type', 'STRING', None, None], ['MOCO', 'CATReporterIMID', '5', 'Optional', 'CAT Reporter IMID', 'STRING', None, None], ['MOCO', 'orderKeyDate', '6', 'Required', 'Timestamp', ['STRING', 'NUMBER'], None, None], ['MOCO', 'orderID', '7', 'Required', 'Text (64)', 'STRING', None, None], ['MOCO', 'optionID', '8', 'Required', 'Text (22)', 'STRING', None, None], ['MOCO', 'parentOrderKeyDate', '9', 'Required', 'Timestamp', ['STRING', 'NUMBER'], None, None], ['MOCO', 'parentOrderID', '10', 'Required', 'Text (64)', 'STRING', None, None], ['MOCO', 'originatingIMID', '11', 'Conditional', 'CAT Reporter IMID', 'STRING', None, None], ['MOCO', 'eventTimestamp', '12', 'Required', 'Timestamp', ['STRING', 'NUMBER'], None, None], ['MOCO', 'side', '13', 'Required', 'Choice', 'STRING', ['B', 'SL', 'SS', 'SX'], None], ['MOCO', 'price', '14', 'Conditional', 'Price', 'NUMBER', None, None], ['MOCO', 'quantity', '15', 'Required', 'Real Quantity', 'NUMBER', None, None], ['MOCO', 'minQty', '16', 'Conditional', 'Whole Quantity', 'NUMBER', None, None], ['MOCO', 'orderType', '17', 'Required', 'Choice', 'STRING', ['CAB', 'LMT', 'MKT'], None], ['MOCO', 'timeInForce', '18', 'Required', 'Name/Value Pairs', 'OBJECT', None, None], ['MOCO', 'tradingSession', '19', 'Required', 'Choice', 'STRING', ['FOR', 'PRE', 'PREREG', 'REG', 'REGPOST', 'POST', 'PREPOST', 'ALL'], None], ['MOCO', 'handlingInstructions', '20', 'Conditional', 'Name/Value Pairs', 'OBJECT', None, None], ['MOCO', 'openCloseIndicator', '21', 'Required', 'Choice', 'STRING', ['Open', 'Close'], None], ['MOCO', 'priorUnlinked', '22', 'Conditional', 'Choice', 'STRING', ['M', 'C'], None], ['MOCO', 'nextUnlinked', '23', 'Conditional', 'Choice', 'STRING', ['M', 'P', 'C'], None], ['MOCOC', 'actionType', '1', 'Required', 'Choice', 'STRING', ['NEW', 'COR', 'RPR', 'DEL'], None], ['MOCOC', 'errorROEID', '2', 'Conditional', 'Unsigned', 'NUMBER', None, None], ['MOCOC', 'firmROEID', '3', 'Required', 'Text (64)', 'STRING', None, None], ['MOCOC', 'type', '4', 'Required', 'Message Type', 'STRING', None, None], ['MOCOC', 'CATReporterIMID', '5', 'Optional', 'CAT Reporter IMID', 'STRING', None, None], ['MOCOC', 'orderKeyDate', '6', 'Required', 'Timestamp', ['STRING', 'NUMBER'], None, None], ['MOCOC', 'orderID', '7', 'Required', 'Text (64)', 'STRING', None, None], ['MOCOC', 'optionID', '8', 'Required', 'Text (22)', 'STRING', None, None], ['MOCOC', 'originatingIMID', '9', 'Conditional', 'CAT Reporter IMID', 'STRING', None, None], ['MOCOC', 'eventTimestamp', '10', 'Required', 'Timestamp', ['STRING', 'NUMBER'], None, None], ['MOCOC', 'side', '11', 'Required', 'Choice', 'STRING', ['B', 'SL', 'SS', 'SX'], None], ['MOCOC', 'cancelQty', '12', 'Required', 'Real Quantity', 'NUMBER', None, None], ['MOCOC', 'leavesQty', '13', 'Required', 'Real Quantity', 'NUMBER', None, None], ['MOCOC', 'reservedForFutureUse', '14', 'Optional', 'Text (0)', 'STRING', None, None], ['MOCOC', 'priorUnlinked', '15', 'Conditional', 'Choice', 'STRING', ['M', 'C'], None], ['MOCOM', 'actionType', '1', 'Required', 'Choice', 'STRING', ['NEW', 'COR', 'RPR', 'DEL'], None], ['MOCOM', 'errorROEID', '2', 'Conditional', 'Unsigned', 'NUMBER', None, None], ['MOCOM', 'firmROEID', '3', 'Required', 'Text (64)', 'STRING', None, None], ['MOCOM', 'type', '4', 'Required', 'Message Type', 'STRING', None, None], ['MOCOM', 'CATReporterIMID', '5', 'Optional', 'CAT Reporter IMID', 'STRING', None, None], ['MOCOM', 'orderKeyDate', '6', 'Required', 'Timestamp', ['STRING', 'NUMBER'], None, None], ['MOCOM', 'orderID', '7', 'Required', 'Text (64)', 'STRING', None, None], ['MOCOM', 'optionID', '8', 'Required', 'Text (22)', 'STRING', None, None], ['MOCOM', 'priorOrderKeyDate', '9', 'Conditional', 'Timestamp', ['STRING', 'NUMBER'], None, None], ['MOCOM', 'priorOrderID', '10', 'Conditional', 'Text (64)', 'STRING', None, None], ['MOCOM', 'originatingIMID', '11', 'Conditional', 'CAT Reporter IMID', 'STRING', None, None], ['MOCOM', 'eventTimestamp', '12', 'Required', 'Timestamp', ['STRING', 'NUMBER'], None, None], ['MOCOM', 'side', '13', 'Required', 'Choice', 'STRING', ['B', 'SL', 'SS', 'SX'], None], ['MOCOM', 'price', '14', 'Conditional', 'Price', 'NUMBER', None, None], ['MOCOM', 'quantity', '15', 'Required', 'Real Quantity', 'NUMBER', None, None], ['MOCOM', 'minQty', '16', 'Conditional', 'Whole Quantity', 'NUMBER', None, None], ['MOCOM', 'leavesQty', '17', 'Required', 'Real Quantity', 'NUMBER', None, None], ['MOCOM', 'orderType', '18', 'Required', 'Choice', 'STRING', ['CAB', 'LMT', 'MKT'], None], ['MOCOM', 'timeInForce', '19', 'Required', 'Name/Value Pairs', 'OBJECT', None, None], ['MOCOM', 'tradingSession', '20', 'Required', 'Choice', 'STRING', ['FOR', 'PRE', 'PREREG', 'REG', 'REGPOST', 'POST', 'PREPOST', 'ALL'], None], ['MOCOM', 'handlingInstructions', '21', 'Conditional', 'Name/Value Pairs', 'OBJECT', None, None], ['MOCOM', 'openCloseIndicator', '22', 'Conditional', 'Choice', 'STRING', ['Open', 'Close'], None], ['MOCOM', 'priorUnlinked', '23', 'Conditional', 'Choice', 'STRING', ['M', 'C'], None], ['MOCOM', 'nextUnlinked', '24', 'Conditional', 'Choice', 'STRING', ['M', 'P', 'C'], None], ['MOFA', 'actionType', '1', 'Required', 'Choice', 'STRING', ['NEW', 'COR', 'RPR', 'DEL'], None], ['MOFA', 'errorROEID', '2', 'Conditional', 'Unsigned', 'NUMBER', None, None], ['MOFA', 'firmROEID', '3', 'Required', 'Text (64)', 'STRING', None, None], ['MOFA', 'type', '4', 'Required', 'Message Type', 'STRING', None, None], ['MOFA', 'CATReporterIMID', '5', 'Optional', 'CAT Reporter IMID', 'STRING', None, None], ['MOFA', 'fillKeyDate', '6', 'Required', 'Timestamp', ['STRING', 'NUMBER'], None, None], ['MOFA', 'fulfillmentID', '7', 'Required', 'Text (64)', 'STRING', None, None], ['MOFA', 'optionID', '8', 'Required', 'Text (22)', 'STRING', None, None], ['MOFA', 'priorFillKeyDate', '9', 'Conditional', 'Timestamp', ['STRING', 'NUMBER'], None, None], ['MOFA', 'priorFulfillmentID', '10', 'Conditional', 'Text (64)', 'STRING', None, None], ['MOFA', 'originatingIMID', '11', 'Conditional', 'CAT Reporter IMID', 'STRING', None, None], ['MOFA', 'eventTimestamp', '12', 'Required', 'Timestamp', ['STRING', 'NUMBER'], None, None], ['MOFA', 'manualFlag', '13', 'Required', 'Boolean', 'BOOLEAN', None, None], ['MOFA', 'electronicTimestamp', '14', 'Conditional', 'Timestamp', ['STRING', 'NUMBER'], None, None], ['MOFA', 'fulfillmentLinkType', '15', 'Required', 'Choice', 'STRING', ['Y', 'YF', 'YP', 'YE', 'FOR', 'O'], None], ['MOFA', 'quantity', '16', 'Required', 'Real Quantity', 'NUMBER', None, None], ['MOFA', 'price', '17', 'Required', 'Price', 'NUMBER', None, None], ['MOFA', 'clientDetails', '18', 'Required', 'Fulfillment Side Details', 'ARRAY', None, 'Array Elements exist'], ['MOFA', 'firmDetails', '19', 'Optional', 'Fulfillment Side Details', 'ARRAY', None, 'Array Elements exist'], ['MOFA', 'priorUnlinked', '20', 'Conditional', 'Choice', 'STRING', ['M', 'C'], None], ['MOIR', 'actionType', '1', 'Required', 'Choice', 'STRING', ['NEW', 'COR', 'RPR', 'DEL'], None], ['MOIR', 'errorROEID', '2', 'Conditional', 'Unsigned', 'NUMBER', None, None], ['MOIR', 'firmROEID', '3', 'Required', 'Text (64)', 'STRING', None, None], ['MOIR', 'type', '4', 'Required', 'Message Type', 'STRING', None, None], ['MOIR', 'CATReporterIMID', '5', 'Optional', 'CAT Reporter IMID', 'STRING', None, None], ['MOIR', 'orderKeyDate', '6', 'Required', 'Timestamp', ['STRING', 'NUMBER'], None, None], ['MOIR', 'orderID', '7', 'Required', 'Text (64)', 'STRING', None, None], ['MOIR', 'optionID', '8', 'Required', 'Text (22)', 'STRING', None, None], ['MOIR', 'parentOrderKeyDate', '9', 'Conditional', 'Timestamp', ['STRING', 'NUMBER'], None, None], ['MOIR', 'parentOrderID', '10', 'Conditional', 'Text (64)', 'STRING', None, None], ['MOIR', 'originatingIMID', '11', 'Conditional', 'CAT Reporter IMID', 'STRING', None, None], ['MOIR', 'eventTimestamp', '12', 'Required', 'Timestamp', ['STRING', 'NUMBER'], None, None], ['MOIR', 'manualFlag', '13', 'Required', 'Boolean', 'BOOLEAN', None, None], ['MOIR', 'electronicTimestamp', '14', 'Conditional', 'Timestamp', ['STRING', 'NUMBER'], None, None], ['MOIR', 'deptType', '15', 'Required', 'Choice', 'STRING', ['A', 'ATS', 'DMA', 'FB', 'SA', 'T', 'O'], None], ['MOIR', 'receivingDeskType', '16', 'Required', 'Choice', 'STRING', ['A', 'AR', 'B', 'C', 'CR', 'D', 'EC', 'FB', 'IN', 'IS', 'O', 'PF', 'PR', 'PT', 'S', 'SW', 'T', 'TR'], None], ['MOIR', 'side', '17', 'Required', 'Choice', 'STRING', ['B', 'SL', 'SS', 'SX'], None], ['MOIR', 'price', '18', 'Conditional', 'Price', 'NUMBER', None, None], ['MOIR', 'quantity', '19', 'Required', 'Real Quantity', 'NUMBER', None, None], ['MOIR', 'minQty', '20', 'Conditional', 'Whole Quantity', 'NUMBER', None, None], ['MOIR', 'orderType', '21', 'Required', 'Choice', 'STRING', ['CAB', 'LMT', 'MKT'], None], ['MOIR', 'handlingInstructions', '22', 'Conditional', 'Name/Value Pairs', 'OBJECT', None, None], ['MOIR', 'openCloseIndicator', '23', 'Conditional', 'Choice', 'STRING', ['Open', 'Close'], None], ['MOIR', 'priorUnlinked', '24', 'Conditional', 'Choice', 'STRING', ['M', 'C'], None], ['MOIR', 'nextUnlinked', '25', 'Conditional', 'Choice', 'STRING', ['M', 'P', 'C'], None], ['MOIR', 'timeInForce', '26', 'Required', 'Name/Value Pairs', 'OBJECT', None, None], ['MOIR', 'tradingSession', '27', 'Required', 'Choice', 'STRING', ['FOR', 'PRE', 'PREREG', 'REG', 'REGPOST', 'POST', 'PREPOST', 'ALL'], None], ['MONO', 'actionType', '1', 'Required', 'Choice', 'STRING', ['NEW', 'COR', 'RPR', 'DEL'], None], ['MONO', 'errorROEID', '2', 'Conditional', 'Unsigned', 'NUMBER', None, None], ['MONO', 'firmROEID', '3', 'Required', 'Text (64)', 'STRING', None, None], ['MONO', 'type', '4', 'Required', 'Message Type', 'STRING', None, None], ['MONO', 'CATReporterIMID', '5', 'Optional', 'CAT Reporter IMID', 'STRING', None, None], ['MONO', 'orderKeyDate', '6', 'Required', 'Timestamp', ['STRING', 'NUMBER'], None, None], ['MONO', 'orderID', '7', 'Required', 'Text (64)', 'STRING', None, None], ['MONO', 'optionID', '8', 'Required', 'Text (22)', 'STRING', None, None], ['MONO', 'eventTimestamp', '9', 'Required', 'Timestamp', ['STRING', 'NUMBER'], None, None], ['MONO', 'manualFlag', '10', 'Required', 'Boolean', 'BOOLEAN', None, None], ['MONO', 'manualOrderKeyDate', '11', 'Optional', 'Timestamp', ['STRING', 'NUMBER'], None, None], ['MONO', 'manualOrderID', '12', 'Optional', 'Text (64)', 'STRING', None, None], ['MONO', 'electronicDupFlag', '13', 'Required', 'Boolean', 'BOOLEAN', None, None], ['MONO', 'electronicTimestamp', '14', 'Conditional', 'Timestamp', ['STRING', 'NUMBER'], None, None], ['MONO', 'deptType', '15', 'Required', 'Choice', 'STRING', ['A', 'ATS', 'DMA', 'FB', 'SA', 'T', 'O'], None], ['MONO', 'side', '16', 'Required', 'Choice', 'STRING', ['B', 'SL', 'SS', 'SX'], None], ['MONO', 'price', '17', 'Conditional', 'Price', 'NUMBER', None, None], ['MONO', 'quantity', '18', 'Required', 'Real Quantity', 'NUMBER', None, None], ['MONO', 'minQty', '19', 'Conditional', 'Whole Quantity', 'NUMBER', None, None], ['MONO', 'orderType', '20', 'Required', 'Choice', 'STRING', ['CAB', 'LMT', 'MKT'], None], ['MONO', 'timeInForce', '21', 'Required', 'Name/Value Pairs', 'OBJECT', None, None], ['MONO', 'tradingSession', '22', 'Required', 'Choice', 'STRING', ['FOR', 'PRE', 'PREREG', 'REG', 'REGPOST', 'POST', 'PREPOST', 'ALL'], None], ['MONO', 'handlingInstructions', '23', 'Conditional', 'Name/Value Pairs', 'OBJECT', None, None], ['MONO', 'firmDesignatedID', '24', 'Required', 'Text (40)', 'STRING', None, None], ['MONO', 'accountHolderType', '25', 'Required', 'Choice', 'STRING', ['A', 'E', 'F', 'I', 'O', 'V', 'P', 'X'], None], ['MONO', 'affiliateFlag', '26', 'Required', 'Boolean', 'BOOLEAN', None, None], ['MONO', 'aggregatedOrders', '27', 'Conditional', 'Aggregated Orders', 'ARRAY', None, 'Array Elements exist'], ['MONO', 'reservedForFutureUse', '28', 'Optional', 'Text (0)', 'STRING', None, None], ['MONO', 'openCloseIndicator', '29', 'Conditional', 'Choice', 'STRING', ['Open', 'Close'], None], ['MONO', 'representativeInd', '30', 'Required', 'Choice', 'STRING', ['Y', 'YS', 'YF', 'YP', 'YE', 'O', 'N'], None], ['MONO', 'nextUnlinked', '31', 'Conditional', 'Choice', 'STRING', ['M', 'P', 'C'], None], ['MONOS', 'actionType', '1', 'Required', 'Choice', 'STRING', ['NEW', 'COR', 'RPR', 'DEL'], None], ['MONOS', 'errorROEID', '2', 'Conditional', 'Unsigned', 'NUMBER', None, None], ['MONOS', 'firmROEID', '3', 'Required', 'Text (64)', 'STRING', None, None], ['MONOS', 'type', '4', 'Required', 'Message Type', 'STRING', None, None], ['MONOS', 'CATReporterIMID', '5', 'Optional', 'CAT Reporter IMID', 'STRING', None, None], ['MONOS', 'orderKeyDate', '6', 'Required', 'Timestamp', ['STRING', 'NUMBER'], None, None], ['MONOS', 'orderID', '7', 'Required', 'Text (64)', 'STRING', None, None], ['MONOS', 'optionID', '8', 'Required', 'Text (22)', 'STRING', None, None], ['MONOS', 'originatingIMID', '9', 'Conditional', 'CAT Reporter IMID', 'STRING', None, None], ['MONOS', 'eventTimestamp', '10', 'Required', 'Timestamp', ['STRING', 'NUMBER'], None, None], ['MONOS', 'aggregatedOrders', '11', 'Conditional', 'Aggregated Orders', 'ARRAY', None, 'Array Elements exist'], ['MONOS', 'priorUnlinked', '12', 'Conditional', 'Choice', 'STRING', ['M', 'C'], None], ['MONOS', 'nextUnlinked', '13', 'Conditional', 'Choice', 'STRING', ['M', 'P', 'C'], None], ['MONOS', 'firmDesignatedID', '14', 'Conditional', 'Text (40)', 'STRING', None, None], ['MOOA', 'actionType', '1', 'Required', 'Choice', 'STRING', ['NEW', 'COR', 'RPR', 'DEL'], None], ['MOOA', 'errorROEID', '2', 'Conditional', 'Unsigned', 'NUMBER', None, None], ['MOOA', 'firmROEID', '3', 'Required', 'Text (64)', 'STRING', None, None], ['MOOA', 'type', '4', 'Required', 'Message Type', 'STRING', None, None], ['MOOA', 'CATReporterIMID', '5', 'Optional', 'CAT Reporter IMID', 'STRING', None, None], ['MOOA', 'orderKeyDate', '6', 'Required', 'Timestamp', ['STRING', 'NUMBER'], None, None], ['MOOA', 'orderID', '7', 'Required', 'Text (64)', 'STRING', None, None], ['MOOA', 'optionID', '8', 'Required', 'Text (22)', 'STRING', None, None], ['MOOA', 'eventTimestamp', '9', 'Required', 'Timestamp', ['STRING', 'NUMBER'], None, None], ['MOOA', 'manualOrderKeyDate', '10', 'Optional', 'Timestamp', ['STRING', 'NUMBER'], None, None], ['MOOA', 'manualOrderID', '11', 'Optional', 'Text (64)', 'STRING', None, None], ['MOOA', 'manualFlag', '12', 'Required', 'Boolean', 'BOOLEAN', None, None], ['MOOA', 'electronicDupFlag', '13', 'Required', 'Boolean', 'BOOLEAN', None, None], ['MOOA', 'electronicTimestamp', '14', 'Conditional', 'Timestamp', ['STRING', 'NUMBER'], None, None], ['MOOA', 'receiverIMID', '15', 'Required', 'Industry Member ID', 'STRING', None, None], ['MOOA', 'senderIMID', '16', 'Required', ['Industry Member ID', 'Exchange ID'], 'STRING', None, None], ['MOOA', 'senderType', '17', 'Required', 'Choice', 'STRING', ['F', 'E'], None], ['MOOA', 'routedOrderID', '18', 'Conditional', 'Text (64)', 'STRING', None, None], ['MOOA', 'deptType', '19', 'Required', 'Choice', 'STRING', ['A', 'ATS', 'DMA', 'FB', 'SA', 'T', 'O'], None], ['MOOA', 'side', '20', 'Required', 'Choice', 'STRING', ['B', 'SL', 'SS', 'SX'], None], ['MOOA', 'price', '21', 'Conditional', 'Price', 'NUMBER', None, None], ['MOOA', 'quantity', '22', 'Required', 'Real Quantity', 'NUMBER', None, None], ['MOOA', 'minQty', '23', 'Conditional', 'Whole Quantity', 'NUMBER', None, None], ['MOOA', 'orderType', '24', 'Required', 'Choice', 'STRING', ['CAB', 'LMT', 'MKT'], None], ['MOOA', 'timeInForce', '25', 'Required', 'Name/Value Pairs', 'OBJECT', None, None], ['MOOA', 'tradingSession', '26', 'Required', 'Choice', 'STRING', ['FOR', 'PRE', 'PREREG', 'REG', 'REGPOST', 'POST', 'PREPOST', 'ALL'], None], ['MOOA', 'handlingInstructions', '27', 'Conditional', 'Name/Value Pairs', 'OBJECT', None, None], ['MOOA', 'affiliateFlag', '28', 'Required', 'Boolean', 'BOOLEAN', None, None], ['MOOA', 'reservedForFutureUse1', '29', 'Optional', 'Text (0)', 'STRING', None, None], ['MOOA', 'reservedForFutureUse2', '30', 'Optional', 'Text (0)', 'STRING', None, None], ['MOOA', 'openCloseIndicator', '31', 'Conditional', 'Choice', 'STRING', ['Open', 'Close'], None], ['MOOA', 'priorUnlinked', '32', 'Conditional', 'Choice', 'STRING', ['M', 'C'], None], ['MOOA', 'nextUnlinked', '33', 'Conditional', 'Choice', 'STRING', ['M', 'P', 'C'], None], ['MOOC', 'actionType', '1', 'Required', 'Choice', 'STRING', ['NEW', 'COR', 'RPR', 'DEL'], None], ['MOOC', 'errorROEID', '2', 'Conditional', 'Unsigned', 'NUMBER', None, None], ['MOOC', 'firmROEID', '3', 'Required', 'Text (64)', 'STRING', None, None], ['MOOC', 'type', '4', 'Required', 'Message Type', 'STRING', None, None], ['MOOC', 'CATReporterIMID', '5', 'Optional', 'CAT Reporter IMID', 'STRING', None, None], ['MOOC', 'orderKeyDate', '6', 'Required', 'Timestamp', ['STRING', 'NUMBER'], None, None], ['MOOC', 'orderID', '7', 'Required', 'Text (64)', 'STRING', None, None], ['MOOC', 'optionID', '8', 'Required', 'Text (22)', 'STRING', None, None], ['MOOC', 'originatingIMID', '9', 'Conditional', 'CAT Reporter IMID', 'STRING', None, None], ['MOOC', 'eventTimestamp', '10', 'Required', 'Timestamp', ['STRING', 'NUMBER'], None, None], ['MOOC', 'manualFlag', '11', 'Required', 'Boolean', 'BOOLEAN', None, None], ['MOOC', 'electronicTimestamp', '12', 'Conditional', 'Timestamp', ['STRING', 'NUMBER'], None, None], ['MOOC', 'cancelQty', '13', 'Required', 'Real Quantity', 'NUMBER', None, None], ['MOOC', 'leavesQty', '14', 'Required', 'Real Quantity', 'NUMBER', None, None], ['MOOC', 'initiator', '15', 'Required', 'Choice', 'STRING', ['C', 'F'], None], ['MOOC', 'priorUnlinked', '16', 'Conditional', 'Choice', 'STRING', ['M', 'C'], None], ['MOOF', 'actionType', '1', 'Required', 'Choice', 'STRING', ['NEW', 'COR', 'RPR', 'DEL'], None], ['MOOF', 'errorROEID', '2', 'Conditional', 'Unsigned', 'NUMBER', None, None], ['MOOF', 'firmROEID', '3', 'Required', 'Text (64)', 'STRING', None, None], ['MOOF', 'type', '4', 'Required', 'Message Type', 'STRING', None, None], ['MOOF', 'CATReporterIMID', '5', 'Optional', 'CAT Reporter IMID', 'STRING', None, None], ['MOOF', 'fillKeyDate', '6', 'Required', 'Timestamp', ['STRING', 'NUMBER'], None, None], ['MOOF', 'fulfillmentID', '7', 'Required', 'Text (64)', 'STRING', None, None], ['MOOF', 'optionID', '8', 'Required', 'Text (22)', 'STRING', None, None], ['MOOF', 'eventTimestamp', '9', 'Required', 'Timestamp', ['STRING', 'NUMBER'], None, None], ['MOOF', 'manualFlag', '10', 'Required', 'Boolean', 'BOOLEAN', None, None], ['MOOF', 'electronicTimestamp', '11', 'Conditional', 'Timestamp', ['STRING', 'NUMBER'], None, None], ['MOOF', 'quantity', '12', 'Required', 'Real Quantity', 'NUMBER', None, None], ['MOOF', 'price', '13', 'Required', 'Price', 'NUMBER', None, None], ['MOOF', 'fulfillmentLinkType', '14', 'Required', 'Choice', 'STRING', ['Y', 'YF', 'YP', 'YE', 'FOR', 'O'], None], ['MOOF', 'clientDetails', '15', 'Required', 'Fulfillment Side Details', 'ARRAY', None, 'Array Elements exist'], ['MOOF', 'firmDetails', '16', 'Optional', 'Fulfillment Side Details', 'ARRAY', None, 'Array Elements exist'], ['MOOF', 'priorUnlinked', '17', 'Conditional', 'Choice', 'STRING', ['M', 'C'], None], ['MOOF', 'cancelFlag', '18', 'Required', 'Boolean', 'BOOLEAN', None, None], ['MOOF', 'cancelTimestamp', '19', 'Conditional', 'Timestamp', ['STRING', 'NUMBER'], None, None], ['MOOJ', 'actionType', '1', 'Required', 'Choice', 'STRING', ['NEW', 'COR', 'RPR', 'DEL'], None], ['MOOJ', 'errorROEID', '2', 'Conditional', 'Unsigned', 'NUMBER', None, None], ['MOOJ', 'firmROEID', '3', 'Required', 'Text (64)', 'STRING', None, None], ['MOOJ', 'type', '4', 'Required', 'Message Type', 'STRING', None, None], ['MOOJ', 'CATReporterIMID', '5', 'Optional', 'CAT Reporter IMID', 'STRING', None, None], ['MOOJ', 'orderKeyDate', '6', 'Required', 'Timestamp', ['STRING', 'NUMBER'], None, None], ['MOOJ', 'orderID', '7', 'Required', 'Text (64)', 'STRING', None, None], ['MOOJ', 'optionID', '8', 'Required', 'Text (22)', 'STRING', None, None], ['MOOJ', 'priorOrderKeyDate', '9', 'Conditional', 'Timestamp', ['STRING', 'NUMBER'], None, None], ['MOOJ', 'priorOrderID', '10', 'Conditional', 'Text (64)', 'STRING', None, None], ['MOOJ', 'originatingIMID', '11', 'Conditional', 'CAT Reporter IMID', 'STRING', None, None], ['MOOJ', 'eventTimestamp', '12', 'Required', 'Timestamp', ['STRING', 'NUMBER'], None, None], ['MOOJ', 'manualFlag', '13', 'Required', 'Boolean', 'BOOLEAN', None, None], ['MOOJ', 'electronicTimestamp', '14', 'Conditional', 'Timestamp', ['STRING', 'NUMBER'], None, None], ['MOOJ', 'initiator', '15', 'Required', 'Choice', 'STRING', ['C', 'F'], None], ['MOOJ', 'price', '16', 'Conditional', 'Price', 'NUMBER', None, None], ['MOOJ', 'quantity', '17', 'Conditional', 'Real Quantity', 'NUMBER', None, None], ['MOOJ', 'minQty', '18', 'Conditional', 'Whole Quantity', 'NUMBER', None, None], ['MOOJ', 'leavesQty', '19', 'Conditional', 'Real Quantity', 'NUMBER', None, None], ['MOOJ', 'priorUnlinked', '20', 'Conditional', 'Choice', 'STRING', ['M', 'C'], None], ['MOOJ', 'nextUnlinked', '21', 'Conditional', 'Choice', 'STRING', ['M', 'P', 'C'], None], ['MOOM', 'actionType', '1', 'Required', 'Choice', 'STRING', ['NEW', 'COR', 'RPR', 'DEL'], None], ['MOOM', 'errorROEID', '2', 'Conditional', 'Unsigned', 'NUMBER', None, None], ['MOOM', 'firmROEID', '3', 'Required', 'Text (64)', 'STRING', None, None], ['MOOM', 'type', '4', 'Required', 'Message Type', 'STRING', None, None], ['MOOM', 'CATReporterIMID', '5', 'Optional', 'CAT Reporter IMID', 'STRING', None, None], ['MOOM', 'orderKeyDate', '6', 'Required', 'Timestamp', ['STRING', 'NUMBER'], None, None], ['MOOM', 'orderID', '7', 'Required', 'Text (64)', 'STRING', None, None], ['MOOM', 'optionID', '8', 'Required', 'Text (22)', 'STRING', None, None], ['MOOM', 'priorOrderKeyDate', '9', 'Conditional', 'Timestamp', ['STRING', 'NUMBER'], None, None], ['MOOM', 'priorOrderID', '10', 'Conditional', 'Text (64)', 'STRING', None, None], ['MOOM', 'originatingIMID', '11', 'Conditional', 'CAT Reporter IMID', 'STRING', None, None], ['MOOM', 'eventTimestamp', '12', 'Required', 'Timestamp', ['STRING', 'NUMBER'], None, None], ['MOOM', 'manualOrderKeyDate', '13', 'Optional', 'Timestamp', ['STRING', 'NUMBER'], None, None], ['MOOM', 'manualOrderID', '14', 'Optional', 'Text (64)', 'STRING', None, None], ['MOOM', 'manualFlag', '15', 'Required', 'Boolean', 'BOOLEAN', None, None], ['MOOM', 'electronicDupFlag', '16', 'Required', 'Boolean', 'BOOLEAN', None, None], ['MOOM', 'electronicTimestamp', '17', 'Conditional', 'Timestamp', ['STRING', 'NUMBER'], None, None], ['MOOM', 'receiverIMID', '18', 'Conditional', 'Industry Member ID', 'STRING', None, None], ['MOOM', 'senderIMID', '19', 'Conditional', ['Industry Member ID', 'Exchange ID'], 'STRING', None, None], ['MOOM', 'senderType', '20', 'Conditional', 'Choice', 'STRING', ['F', 'E'], None], ['MOOM', 'routedOrderID', '21', 'Conditional', 'Text (64)', 'STRING', None, None], ['MOOM', 'initiator', '22', 'Required', 'Choice', 'STRING', ['C', 'F'], None], ['MOOM', 'side', '23', 'Required', 'Choice', 'STRING', ['B', 'SL', 'SS', 'SX'], None], ['MOOM', 'price', '24', 'Conditional', 'Price', 'NUMBER', None, None], ['MOOM', 'quantity', '25', 'Required', 'Real Quantity', 'NUMBER', None, None], ['MOOM', 'minQty', '26', 'Conditional', 'Whole Quantity', 'NUMBER', None, None], ['MOOM', 'leavesQty', '27', 'Required', 'Real Quantity', 'NUMBER', None, None], ['MOOM', 'orderType', '28', 'Required', 'Choice', 'STRING', ['CAB', 'LMT', 'MKT'], None], ['MOOM', 'timeInForce', '29', 'Required', 'Name/Value Pairs', 'OBJECT', None, None], ['MOOM', 'tradingSession', '30', 'Required', 'Choice', 'STRING', ['FOR', 'PRE', 'PREREG', 'REG', 'REGPOST', 'POST', 'PREPOST', 'ALL'], None], ['MOOM', 'handlingInstructions', '31', 'Conditional', 'Name/Value Pairs', 'OBJECT', None, None], ['MOOM', 'openCloseIndicator', '32', 'Conditional', 'Choice', 'STRING', ['Open', 'Close'], None], ['MOOM', 'reservedForFutureUse1', '33', 'Optional', 'Text (0)', 'STRING', None, None], ['MOOM', 'reservedForFutureUse2', '34', 'Optional', 'Text (0)', 'STRING', None, None], ['MOOM', 'aggregatedOrders', '35', 'Conditional', 'Aggregated Orders', 'ARRAY', None, 'Array Elements exist'], ['MOOM', 'representativeInd', '36', 'Required', 'Choice', 'STRING', ['Y', 'YS', 'YF', 'YP', 'YE', 'O', 'N'], None], ['MOOM', 'priorUnlinked', '37', 'Conditional', 'Choice', 'STRING', ['M', 'C'], None], ['MOOM', 'nextUnlinked', '38', 'Conditional', 'Choice', 'STRING', ['M', 'P', 'C'], None], ['MOOR', 'actionType', '1', 'Required', 'Choice', 'STRING', ['NEW', 'COR', 'RPR', 'DEL'], None], ['MOOR', 'errorROEID', '2', 'Conditional', 'Unsigned', 'NUMBER', None, None], ['MOOR', 'firmROEID', '3', 'Required', 'Text (64)', 'STRING', None, None], ['MOOR', 'type', '4', 'Required', 'Message Type', 'STRING', None, None], ['MOOR', 'CATReporterIMID', '5', 'Optional', 'CAT Reporter IMID', 'STRING', None, None], ['MOOR', 'orderKeyDate', '6', 'Required', 'Timestamp', ['STRING', 'NUMBER'], None, None], ['MOOR', 'orderID', '7', 'Required', 'Text (64)', 'STRING', None, None], ['MOOR', 'optionID', '8', 'Required', 'Text (22)', 'STRING', None, None], ['MOOR', 'originatingIMID', '9', 'Conditional', 'CAT Reporter IMID', 'STRING', None, None], ['MOOR', 'eventTimestamp', '10', 'Required', 'Timestamp', ['STRING', 'NUMBER'], None, None], ['MOOR', 'manualFlag', '11', 'Required', 'Boolean', 'BOOLEAN', None, None], ['MOOR', 'electronicDupFlag', '12', 'Required', 'Boolean', 'BOOLEAN', None, None], ['MOOR', 'electronicTimestamp', '13', 'Conditional', 'Timestamp', ['STRING', 'NUMBER'], None, None], ['MOOR', 'senderIMID', '14', 'Conditional', 'Industry Member ID', 'STRING', None, None], ['MOOR', 'destination', '15', 'Conditional', ['Industry Member ID', 'Exchange ID'], 'STRING', None, None], ['MOOR', 'destinationType', '16', 'Required', 'Choice', 'STRING', ['F', 'E', 'N'], None], ['MOOR', 'routedOrderID', '17', 'Conditional', 'Text (64)', 'STRING', None, None], ['MOOR', 'session', '18', 'Conditional', 'Text (40)', 'STRING', None, None], ['MOOR', 'side', '19', 'Required', 'Choice', 'STRING', ['B', 'SL', 'SS', 'SX'], None], ['MOOR', 'price', '20', 'Conditional', 'Price', 'NUMBER', None, None], ['MOOR', 'quantity', '21', 'Required', 'Real Quantity', 'NUMBER', None, None], ['MOOR', 'minQty', '22', 'Conditional', 'Whole Quantity', 'NUMBER', None, None], ['MOOR', 'orderType', '23', 'Required', 'Choice', 'STRING', ['CAB', 'LMT', 'MKT'], None], ['MOOR', 'timeInForce', '24', 'Required', 'Name/Value Pairs', 'OBJECT', None, None], ['MOOR', 'tradingSession', '25', 'Required', 'Choice', 'STRING', ['FOR', 'PRE', 'PREREG', 'REG', 'REGPOST', 'POST', 'PREPOST', 'ALL'], None], ['MOOR', 'handlingInstructions', '26', 'Conditional', 'Name/Value Pairs', 'OBJECT', None, None], ['MOOR', 'routeRejectedFlag', '27', 'Optional', 'Boolean', 'BOOLEAN', None, None], ['MOOR', 'exchOriginCode', '28', 'Conditional', 'Text (4)', 'STRING', None, None], ['MOOR', 'affiliateFlag', '29', 'Required', 'Boolean', 'BOOLEAN', None, None], ['MOOR', 'reservedForFutureUse', '30', 'Optional', 'Text (0)', 'STRING', None, None], ['MOOR', 'openCloseIndicator', '31', 'Conditional', 'Choice', 'STRING', ['Open', 'Close'], None], ['MOOR', 'priorUnlinked', '32', 'Conditional', 'Choice', 'STRING', ['M', 'C'], None], ['MOOR', 'nextUnlinked', '33', 'Conditional', 'Choice', 'STRING', ['M', 'P', 'C'], None]]\n"
     ]
    }
   ],
   "source": [
    "headers = ['Event Name', 'Data Element Name', 'Position', 'Required', 'Data Type', 'JSON Data Type', 'Choices', 'Array Elements']\n",
    "\n",
    "CAT_list = eightlist.insert(0,headers)\n",
    "CAT_list = eightlist\n",
    "\n",
    "print(CAT_list)\n"
   ]
  },
  {
   "cell_type": "markdown",
   "metadata": {},
   "source": [
    "Now we write this to .csv: "
   ]
  },
  {
   "cell_type": "code",
   "execution_count": 16,
   "metadata": {},
   "outputs": [],
   "source": [
    "import csv\n",
    "\n",
    "with open(\"output.csv\", \"w\", newline='') as f:\n",
    "    writer = csv.writer(f)\n",
    "    writer.writerows(CAT_list)"
   ]
  },
  {
   "cell_type": "markdown",
   "metadata": {},
   "source": [
    "The Final code is saved in CATparser.py"
   ]
  },
  {
   "cell_type": "code",
   "execution_count": null,
   "metadata": {},
   "outputs": [],
   "source": []
  }
 ],
 "metadata": {
  "kernelspec": {
   "display_name": "Python 3",
   "language": "python",
   "name": "python3"
  },
  "language_info": {
   "codemirror_mode": {
    "name": "ipython",
    "version": 3
   },
   "file_extension": ".py",
   "mimetype": "text/x-python",
   "name": "python",
   "nbconvert_exporter": "python",
   "pygments_lexer": "ipython3",
   "version": "3.7.4"
  }
 },
 "nbformat": 4,
 "nbformat_minor": 2
}
