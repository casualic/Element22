{
 "cells": [
  {
   "cell_type": "markdown",
   "metadata": {},
   "source": [
    "In this project we will transform the the .json databse to the desired  csv form.\n",
    "\n",
    "Our desired headers are:\n",
    "Event name | Data Element Name | Position | Required| Data Type | JSON DATAYPE | Chosices | array elements\n"
   ]
  },
  {
   "cell_type": "code",
   "execution_count": 6,
   "metadata": {},
   "outputs": [],
   "source": [
    "import pandas as pd\n",
    "import json\n",
    "import os\n",
    "import csv\n",
    "import pprint"
   ]
  },
  {
   "cell_type": "markdown",
   "metadata": {},
   "source": [
    "First - interpreting the .json file in python"
   ]
  },
  {
   "cell_type": "code",
   "execution_count": 7,
   "metadata": {},
   "outputs": [],
   "source": [
    "with open(\"database.json\", \"r\") as read_file:\n",
    "    data = json.load(read_file)"
   ]
  },
  {
   "cell_type": "code",
   "execution_count": 8,
   "metadata": {},
   "outputs": [
    {
     "name": "stdout",
     "output_type": "stream",
     "text": [
      "dict_keys(['description', 'version', 'dataTypes', 'eventDefinitions', 'choices', 'nameValuePairDefinitions'])\n"
     ]
    }
   ],
   "source": [
    "print(data.keys()) #prints keys"
   ]
  },
  {
   "cell_type": "code",
   "execution_count": 39,
   "metadata": {},
   "outputs": [
    {
     "name": "stdout",
     "output_type": "stream",
     "text": [
      "Number of CAT events is 32\n"
     ]
    },
    {
     "data": {
      "text/plain": [
       "{'eventName': 'MECOM',\n",
       " 'fields': [{'name': 'actionType',\n",
       "   'dataType': 'Choice',\n",
       "   'JSONDataType': 'STRING',\n",
       "   'required': 'Required',\n",
       "   'position': '1'},\n",
       "  {'name': 'errorROEID',\n",
       "   'dataType': 'Unsigned',\n",
       "   'JSONDataType': 'NUMBER',\n",
       "   'required': 'Conditional',\n",
       "   'position': '2'},\n",
       "  {'name': 'firmROEID',\n",
       "   'dataType': 'Text (64)',\n",
       "   'JSONDataType': 'STRING',\n",
       "   'required': 'Required',\n",
       "   'position': '3'},\n",
       "  {'name': 'type',\n",
       "   'dataType': 'Message Type',\n",
       "   'JSONDataType': 'STRING',\n",
       "   'required': 'Required',\n",
       "   'position': '4'},\n",
       "  {'name': 'CATReporterIMID',\n",
       "   'dataType': 'CAT Reporter IMID',\n",
       "   'JSONDataType': 'STRING',\n",
       "   'required': 'Optional',\n",
       "   'position': '5'},\n",
       "  {'name': 'orderKeyDate',\n",
       "   'dataType': 'Timestamp',\n",
       "   'JSONDataType': ['STRING', 'NUMBER'],\n",
       "   'required': 'Required',\n",
       "   'position': '6'},\n",
       "  {'name': 'orderID',\n",
       "   'dataType': 'Text (64)',\n",
       "   'JSONDataType': 'STRING',\n",
       "   'required': 'Required',\n",
       "   'position': '7'},\n",
       "  {'name': 'symbol',\n",
       "   'dataType': 'Symbol',\n",
       "   'JSONDataType': 'STRING',\n",
       "   'required': 'Required',\n",
       "   'position': '8'},\n",
       "  {'name': 'priorOrderKeyDate',\n",
       "   'dataType': 'Timestamp',\n",
       "   'JSONDataType': ['STRING', 'NUMBER'],\n",
       "   'required': 'Conditional',\n",
       "   'position': '9'},\n",
       "  {'name': 'priorOrderID',\n",
       "   'dataType': 'Text (64)',\n",
       "   'JSONDataType': 'STRING',\n",
       "   'required': 'Conditional',\n",
       "   'position': '10'},\n",
       "  {'name': 'originatingIMID',\n",
       "   'dataType': 'CAT Reporter IMID',\n",
       "   'JSONDataType': 'STRING',\n",
       "   'required': 'Conditional',\n",
       "   'position': '11'},\n",
       "  {'name': 'eventTimestamp',\n",
       "   'dataType': 'Timestamp',\n",
       "   'JSONDataType': ['STRING', 'NUMBER'],\n",
       "   'required': 'Required',\n",
       "   'position': '12'},\n",
       "  {'name': 'side',\n",
       "   'dataType': 'Choice',\n",
       "   'JSONDataType': 'STRING',\n",
       "   'required': 'Required',\n",
       "   'position': '13'},\n",
       "  {'name': 'price',\n",
       "   'dataType': 'Price',\n",
       "   'JSONDataType': 'NUMBER',\n",
       "   'required': 'Conditional',\n",
       "   'position': '14'},\n",
       "  {'name': 'quantity',\n",
       "   'dataType': 'Real Quantity',\n",
       "   'JSONDataType': 'NUMBER',\n",
       "   'required': 'Required',\n",
       "   'position': '15'},\n",
       "  {'name': 'minQty',\n",
       "   'dataType': 'Whole Quantity',\n",
       "   'JSONDataType': 'NUMBER',\n",
       "   'required': 'Conditional',\n",
       "   'position': '16'},\n",
       "  {'name': 'leavesQty',\n",
       "   'dataType': 'Real Quantity',\n",
       "   'JSONDataType': 'NUMBER',\n",
       "   'required': 'Required',\n",
       "   'position': '17'},\n",
       "  {'name': 'orderType',\n",
       "   'dataType': 'Choice',\n",
       "   'JSONDataType': 'STRING',\n",
       "   'required': 'Required',\n",
       "   'position': '18'},\n",
       "  {'name': 'timeInForce',\n",
       "   'dataType': 'Name/Value Pairs',\n",
       "   'JSONDataType': 'OBJECT',\n",
       "   'required': 'Required',\n",
       "   'position': '19'},\n",
       "  {'name': 'tradingSession',\n",
       "   'dataType': 'Choice',\n",
       "   'JSONDataType': 'STRING',\n",
       "   'required': 'Required',\n",
       "   'position': '20'},\n",
       "  {'name': 'handlingInstructions',\n",
       "   'dataType': 'Name/Value Pairs',\n",
       "   'JSONDataType': 'OBJECT',\n",
       "   'required': 'Conditional',\n",
       "   'position': '21'},\n",
       "  {'name': 'seqNum',\n",
       "   'dataType': 'Alphanumeric (40)',\n",
       "   'JSONDataType': 'STRING',\n",
       "   'required': 'Conditional',\n",
       "   'position': '22'},\n",
       "  {'name': 'atsDisplayInd',\n",
       "   'dataType': 'Choice',\n",
       "   'JSONDataType': 'STRING',\n",
       "   'required': 'Conditional',\n",
       "   'position': '23'},\n",
       "  {'name': 'displayPrice',\n",
       "   'dataType': 'Price',\n",
       "   'JSONDataType': 'NUMBER',\n",
       "   'required': 'Conditional',\n",
       "   'position': '24'},\n",
       "  {'name': 'workingPrice',\n",
       "   'dataType': 'Price',\n",
       "   'JSONDataType': 'NUMBER',\n",
       "   'required': 'Conditional',\n",
       "   'position': '25'},\n",
       "  {'name': 'displayQty',\n",
       "   'dataType': 'Whole Quantity',\n",
       "   'JSONDataType': 'NUMBER',\n",
       "   'required': 'Conditional',\n",
       "   'position': '26'},\n",
       "  {'name': 'nbbPrice',\n",
       "   'dataType': 'Price',\n",
       "   'JSONDataType': 'NUMBER',\n",
       "   'required': 'Conditional',\n",
       "   'position': '27'},\n",
       "  {'name': 'nbbQty',\n",
       "   'dataType': 'Whole Quantity',\n",
       "   'JSONDataType': 'NUMBER',\n",
       "   'required': 'Conditional',\n",
       "   'position': '28'},\n",
       "  {'name': 'nboPrice',\n",
       "   'dataType': 'Price',\n",
       "   'JSONDataType': 'NUMBER',\n",
       "   'required': 'Conditional',\n",
       "   'position': '29'},\n",
       "  {'name': 'nboQty',\n",
       "   'dataType': 'Whole Quantity',\n",
       "   'JSONDataType': 'NUMBER',\n",
       "   'required': 'Conditional',\n",
       "   'position': '30'},\n",
       "  {'name': 'nbboSource',\n",
       "   'dataType': 'Choice',\n",
       "   'JSONDataType': 'STRING',\n",
       "   'required': 'Conditional',\n",
       "   'position': '31'},\n",
       "  {'name': 'nbboTimestamp',\n",
       "   'dataType': 'Timestamp',\n",
       "   'JSONDataType': ['STRING', 'NUMBER'],\n",
       "   'required': 'Conditional',\n",
       "   'position': '32'}]}"
      ]
     },
     "execution_count": 39,
     "metadata": {},
     "output_type": "execute_result"
    }
   ],
   "source": [
    "print('Number of CAT events is ' + str(len(data['eventDefinitions'])))\n",
    "\n",
    "type(data['eventDefinitions'])\n",
    "\n",
    "data['eventDefinitions'][2] # data inspection\n",
    "\n",
    "\n",
    "\n"
   ]
  },
  {
   "cell_type": "markdown",
   "metadata": {},
   "source": [
    "For each cat event, we have a buncjh of inputs under the cat field. \n",
    "We have 32 different cat events , and so we want to loop through all of them \n",
    "\n",
    "For each Cat event , we want to loop over every input in fields. Every input in fields is a dictionary with keys.\n",
    "\n"
   ]
  },
  {
   "cell_type": "code",
   "execution_count": 74,
   "metadata": {},
   "outputs": [
    {
     "name": "stdout",
     "output_type": "stream",
     "text": [
      "[['MECO', 'actionType', '1', 'Required', 'Choice', 'STRING'], ['MECO', 'errorROEID', '2', 'Conditional', 'Unsigned', 'NUMBER'], ['MECO', 'firmROEID', '3', 'Required', 'Text (64)', 'STRING'], ['MECO', 'type', '4', 'Required', 'Message Type', 'STRING'], ['MECO', 'CATReporterIMID', '5', 'Optional', 'CAT Reporter IMID', 'STRING']]\n"
     ]
    }
   ],
   "source": [
    "#takes cat name\n",
    "sixlist = []\n",
    "CATROW = []\n",
    "n = 0\n",
    "\n",
    "for row in data['eventDefinitions']: # iterates over CATs\n",
    "    #print(row['eventName'])\n",
    "    l1 = row['eventName']\n",
    "    n += 1\n",
    "    for var in data['eventDefinitions'][n-1]['fields']: #for each gat, iterates over fields\n",
    "        #print(var['name'])\n",
    "        l2 = var['name']\n",
    "        l3 = var['position']\n",
    "        l4 = var['required']\n",
    "        l5 = var['dataType']\n",
    "        l6 = var['JSONDataType']\n",
    "        catrow = [l1, l2, l3, l4, l5, l6]\n",
    "        sixlist.append(catrow)\n",
    "\n",
    "print(sixlist[:5])    \n",
    "        \n",
    "\n"
   ]
  },
  {
   "cell_type": "markdown",
   "metadata": {},
   "source": [
    "Now we're just missing columns 7 and 8, since they restrict the data. "
   ]
  },
  {
   "cell_type": "code",
   "execution_count": 48,
   "metadata": {},
   "outputs": [
    {
     "data": {
      "text/plain": [
       "list"
      ]
     },
     "execution_count": 48,
     "metadata": {},
     "output_type": "execute_result"
    }
   ],
   "source": [
    "type(data['eventDefinitions'][1]['fields'])"
   ]
  },
  {
   "cell_type": "code",
   "execution_count": 57,
   "metadata": {},
   "outputs": [
    {
     "name": "stdout",
     "output_type": "stream",
     "text": [
      "[{'name': 'actionType', 'dataType': 'Choice', 'JSONDataType': 'STRING', 'required': 'Required', 'position': '1'}, {'name': 'errorROEID', 'dataType': 'Unsigned', 'JSONDataType': 'NUMBER', 'required': 'Conditional', 'position': '2'}, {'name': 'firmROEID', 'dataType': 'Text (64)', 'JSONDataType': 'STRING', 'required': 'Required', 'position': '3'}, {'name': 'type', 'dataType': 'Message Type', 'JSONDataType': 'STRING', 'required': 'Required', 'position': '4'}, {'name': 'CATReporterIMID', 'dataType': 'CAT Reporter IMID', 'JSONDataType': 'STRING', 'required': 'Optional', 'position': '5'}, {'name': 'orderKeyDate', 'dataType': 'Timestamp', 'JSONDataType': ['STRING', 'NUMBER'], 'required': 'Required', 'position': '6'}, {'name': 'orderID', 'dataType': 'Text (64)', 'JSONDataType': 'STRING', 'required': 'Required', 'position': '7'}, {'name': 'symbol', 'dataType': 'Symbol', 'JSONDataType': 'STRING', 'required': 'Required', 'position': '8'}, {'name': 'parentOrderKeyDate', 'dataType': 'Timestamp', 'JSONDataType': ['STRING', 'NUMBER'], 'required': 'Conditional', 'position': '9'}, {'name': 'parentOrderID', 'dataType': 'Text (64)', 'JSONDataType': 'STRING', 'required': 'Conditional', 'position': '10'}, {'name': 'originatingIMID', 'dataType': 'CAT Reporter IMID', 'JSONDataType': 'STRING', 'required': 'Conditional', 'position': '11'}, {'name': 'eventTimestamp', 'dataType': 'Timestamp', 'JSONDataType': ['STRING', 'NUMBER'], 'required': 'Required', 'position': '12'}, {'name': 'manualFlag', 'dataType': 'Boolean', 'JSONDataType': 'BOOLEAN', 'required': 'Required', 'position': '13'}, {'name': 'electronicTimestamp', 'dataType': 'Timestamp', 'JSONDataType': ['STRING', 'NUMBER'], 'required': 'Conditional', 'position': '14'}, {'name': 'deptType', 'dataType': 'Choice', 'JSONDataType': 'STRING', 'required': 'Required', 'position': '15'}, {'name': 'receivingDeskType', 'dataType': 'Choice', 'JSONDataType': 'STRING', 'required': 'Required', 'position': '16'}, {'name': 'infoBarrierID', 'dataType': 'Text (20)', 'JSONDataType': 'STRING', 'required': 'Conditional', 'position': '17'}, {'name': 'side', 'dataType': 'Choice', 'JSONDataType': 'STRING', 'required': 'Required', 'position': '18'}, {'name': 'price', 'dataType': 'Price', 'JSONDataType': 'NUMBER', 'required': 'Conditional', 'position': '19'}, {'name': 'quantity', 'dataType': 'Real Quantity', 'JSONDataType': 'NUMBER', 'required': 'Required', 'position': '20'}, {'name': 'minQty', 'dataType': 'Whole Quantity', 'JSONDataType': 'NUMBER', 'required': 'Conditional', 'position': '21'}, {'name': 'orderType', 'dataType': 'Choice', 'JSONDataType': 'STRING', 'required': 'Required', 'position': '22'}, {'name': 'handlingInstructions', 'dataType': 'Name/Value Pairs', 'JSONDataType': 'OBJECT', 'required': 'Conditional', 'position': '23'}, {'name': 'timeInForce', 'dataType': 'Name/Value Pairs', 'JSONDataType': 'OBJECT', 'required': 'Required', 'position': '24'}, {'name': 'tradingSession', 'dataType': 'Choice', 'JSONDataType': 'STRING', 'required': 'Required', 'position': '25'}]\n"
     ]
    }
   ],
   "source": [
    "print(data['eventDefinitions'][4]['fields'])"
   ]
  },
  {
   "cell_type": "raw",
   "metadata": {},
   "source": []
  },
  {
   "cell_type": "code",
   "execution_count": null,
   "metadata": {},
   "outputs": [],
   "source": []
  }
 ],
 "metadata": {
  "kernelspec": {
   "display_name": "Python 3",
   "language": "python",
   "name": "python3"
  },
  "language_info": {
   "codemirror_mode": {
    "name": "ipython",
    "version": 3
   },
   "file_extension": ".py",
   "mimetype": "text/x-python",
   "name": "python",
   "nbconvert_exporter": "python",
   "pygments_lexer": "ipython3",
   "version": "3.7.4"
  }
 },
 "nbformat": 4,
 "nbformat_minor": 2
}
