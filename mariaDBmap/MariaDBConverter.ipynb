{
 "cells": [
  {
   "cell_type": "markdown",
   "metadata": {},
   "source": [
    "This project aims to convert the data definitions from the .json into MariaDB datatypes. "
   ]
  },
  {
   "cell_type": "markdown",
   "metadata": {},
   "source": [
    "First we initialize the libraries, and load the database into Python."
   ]
  },
  {
   "cell_type": "code",
   "execution_count": 1,
   "metadata": {},
   "outputs": [],
   "source": [
    "import pandas as pd\n",
    "import json\n",
    "import os\n",
    "import csv\n",
    "import pprint\n"
   ]
  },
  {
   "cell_type": "code",
   "execution_count": 2,
   "metadata": {},
   "outputs": [],
   "source": [
    "with open(\"database.json\", \"r\") as read_file:\n",
    "    data = json.load(read_file)"
   ]
  },
  {
   "cell_type": "markdown",
   "metadata": {},
   "source": [
    "Inspecting the keys, we look for the Data Types"
   ]
  },
  {
   "cell_type": "code",
   "execution_count": 3,
   "metadata": {},
   "outputs": [
    {
     "name": "stdout",
     "output_type": "stream",
     "text": [
      "dict_keys(['description', 'version', 'dataTypes', 'eventDefinitions', 'choices', 'nameValuePairDefinitions'])\n"
     ]
    }
   ],
   "source": [
    "print(data.keys()) #prints keys"
   ]
  },
  {
   "cell_type": "markdown",
   "metadata": {},
   "source": [
    "Now inspecting the 'datatypes' data."
   ]
  },
  {
   "cell_type": "code",
   "execution_count": 4,
   "metadata": {},
   "outputs": [
    {
     "name": "stdout",
     "output_type": "stream",
     "text": [
      "{'dataType': 'Date', 'JSONDataType': 'NUMBER', 'precision': 8, 'scale': 0}\n"
     ]
    }
   ],
   "source": [
    "print(data['dataTypes'][1])"
   ]
  },
  {
   "cell_type": "markdown",
   "metadata": {},
   "source": [
    "We create the loop to extract the datatypes into a list of lists."
   ]
  },
  {
   "cell_type": "code",
   "execution_count": 14,
   "metadata": {},
   "outputs": [],
   "source": [
    "headers = ['JSON Datatype','datatype','precision','scale', 'max length']\n",
    "definitions = []\n",
    "\n",
    "for row in data['dataTypes']:\n",
    "    l0 = row['JSONDataType']\n",
    "    l1 = row['dataType']\n",
    "    if 'precision' in row:\n",
    "        l2 = row['precision']\n",
    "    else:\n",
    "        l2 = None\n",
    "    if 'scale' in row:\n",
    "        l3 = row['scale']\n",
    "    else:\n",
    "        l3 = None\n",
    "    if 'maxLength' in row:\n",
    "        l4 = row['maxLength']\n",
    "    else:\n",
    "        l4 = None \n",
    "\n",
    "\n",
    "    \n",
    "    addrow = [l0, l1, l2, l3, l4]\n",
    "    definitions.append(addrow)"
   ]
  },
  {
   "cell_type": "markdown",
   "metadata": {},
   "source": [
    "Inspecting the data:"
   ]
  },
  {
   "cell_type": "code",
   "execution_count": 22,
   "metadata": {},
   "outputs": [
    {
     "name": "stdout",
     "output_type": "stream",
     "text": [
      "[['JSON Datatype', 'datatype', 'precision', 'scale', 'max length'], ['NUMBER', 'Price', 10, 8, None], ['NUMBER', 'Date', 8, 0, None], [[{'JSONDataType': 'NUMBER', 'precision': 20, 'scale': 0}, {'JSONDataType': 'STRING', 'maxLength': 25}], 'Timestamp', None, None, None], ['NUMBER', 'Real Quantity', 12, 6, None], ['NUMBER', 'Whole Quantity', 12, 0, None], ['STRING', 'Symbol', None, None, 22], ['STRING', 'Message Type', None, None, 5], ['STRING', 'CAT Reporter IMID', None, None, 7], ['STRING', 'Industry Member ID', None, None, 16], ['STRING', 'Exchange ID', None, None, 7], ['NUMBER', 'Integer', 19, 0, None], ['NUMBER', 'Unsigned', 20, 0, None], ['BOOLEAN', 'Boolean', None, None, None]]\n"
     ]
    }
   ],
   "source": [
    "print(definitions)"
   ]
  },
  {
   "cell_type": "markdown",
   "metadata": {},
   "source": [
    "Now we add the headers:"
   ]
  },
  {
   "cell_type": "code",
   "execution_count": 16,
   "metadata": {},
   "outputs": [],
   "source": [
    "typelist = definitions.insert(0,headers)\n",
    "typelist = definitions"
   ]
  },
  {
   "cell_type": "code",
   "execution_count": 17,
   "metadata": {},
   "outputs": [
    {
     "name": "stdout",
     "output_type": "stream",
     "text": [
      "[['JSON Datatype', 'datatype', 'precision', 'scale', 'max length'], ['NUMBER', 'Price', 10, 8, None], ['NUMBER', 'Date', 8, 0, None], [[{'JSONDataType': 'NUMBER', 'precision': 20, 'scale': 0}, {'JSONDataType': 'STRING', 'maxLength': 25}], 'Timestamp', None, None, None], ['NUMBER', 'Real Quantity', 12, 6, None], ['NUMBER', 'Whole Quantity', 12, 0, None], ['STRING', 'Symbol', None, None, 22], ['STRING', 'Message Type', None, None, 5], ['STRING', 'CAT Reporter IMID', None, None, 7], ['STRING', 'Industry Member ID', None, None, 16], ['STRING', 'Exchange ID', None, None, 7], ['NUMBER', 'Integer', 19, 0, None], ['NUMBER', 'Unsigned', 20, 0, None], ['BOOLEAN', 'Boolean', None, None, None]]\n"
     ]
    }
   ],
   "source": [
    "print(typelist)"
   ]
  },
  {
   "cell_type": "code",
   "execution_count": 18,
   "metadata": {},
   "outputs": [],
   "source": [
    "import csv\n",
    "\n",
    "with open(\"typelist.csv\", \"w\", newline='') as f:\n",
    "    writer = csv.writer(f)\n",
    "    writer.writerows(typelist)"
   ]
  },
  {
   "cell_type": "markdown",
   "metadata": {},
   "source": [
    "The resulting table is saved as typelist.csv in the root folder. \n",
    "\n",
    "From inspection we see that there are only 13 main inputs, so we can do the csv to MariaDB dataype mapping manually.\n",
    "\n",
    "\n",
    "These adjustment are then saved in 'typelist0.04ADJUSTED.csv'\n",
    "\n",
    "The working python script for the conversion can be found in MariaDBConvert.py\n",
    "\n"
   ]
  }
 ],
 "metadata": {
  "kernelspec": {
   "display_name": "Python 3",
   "language": "python",
   "name": "python3"
  },
  "language_info": {
   "codemirror_mode": {
    "name": "ipython",
    "version": 3
   },
   "file_extension": ".py",
   "mimetype": "text/x-python",
   "name": "python",
   "nbconvert_exporter": "python",
   "pygments_lexer": "ipython3",
   "version": "3.7.4"
  }
 },
 "nbformat": 4,
 "nbformat_minor": 2
}
